{
 "cells": [
  {
   "cell_type": "markdown",
   "id": "b0da339c-1075-437a-abb8-79c9880350ee",
   "metadata": {},
   "source": [
    "## Pandas Profiling"
   ]
  },
  {
   "cell_type": "code",
   "execution_count": 30,
   "id": "41fe8bd6-ec6d-4874-add3-201ace3eac13",
   "metadata": {},
   "outputs": [
    {
     "name": "stdout",
     "output_type": "stream",
     "text": [
      "Requirement already satisfied: ydata_profiling in c:\\users\\dyavadi\\anaconda3\\lib\\site-packages (4.7.0)\n",
      "Requirement already satisfied: scipy<1.12,>=1.4.1 in c:\\users\\dyavadi\\anaconda3\\lib\\site-packages (from ydata_profiling) (1.11.4)\n",
      "Requirement already satisfied: pandas!=1.4.0,<3,>1.1 in c:\\users\\dyavadi\\anaconda3\\lib\\site-packages (from ydata_profiling) (2.2.2)\n",
      "Requirement already satisfied: matplotlib<3.9,>=3.2 in c:\\users\\dyavadi\\anaconda3\\lib\\site-packages (from ydata_profiling) (3.8.4)\n",
      "Requirement already satisfied: pydantic>=2 in c:\\users\\dyavadi\\anaconda3\\lib\\site-packages (from ydata_profiling) (2.7.0)\n",
      "Requirement already satisfied: PyYAML<6.1,>=5.0.0 in c:\\users\\dyavadi\\anaconda3\\lib\\site-packages (from ydata_profiling) (6.0.1)\n",
      "Requirement already satisfied: jinja2<3.2,>=2.11.1 in c:\\users\\dyavadi\\anaconda3\\lib\\site-packages (from ydata_profiling) (3.1.3)\n",
      "Collecting visions<0.7.7,>=0.7.5 (from visions[type_image_path]<0.7.7,>=0.7.5->ydata_profiling)\n",
      "  Using cached visions-0.7.6-py3-none-any.whl.metadata (11 kB)\n",
      "Requirement already satisfied: numpy<2,>=1.16.0 in c:\\users\\dyavadi\\anaconda3\\lib\\site-packages (from ydata_profiling) (1.26.4)\n",
      "Requirement already satisfied: htmlmin==0.1.12 in c:\\users\\dyavadi\\anaconda3\\lib\\site-packages (from ydata_profiling) (0.1.12)\n",
      "Requirement already satisfied: phik<0.13,>=0.11.1 in c:\\users\\dyavadi\\anaconda3\\lib\\site-packages (from ydata_profiling) (0.12.4)\n",
      "Requirement already satisfied: requests<3,>=2.24.0 in c:\\users\\dyavadi\\anaconda3\\lib\\site-packages (from ydata_profiling) (2.31.0)\n",
      "Requirement already satisfied: tqdm<5,>=4.48.2 in c:\\users\\dyavadi\\anaconda3\\lib\\site-packages (from ydata_profiling) (4.65.0)\n",
      "Requirement already satisfied: seaborn<0.13,>=0.10.1 in c:\\users\\dyavadi\\anaconda3\\lib\\site-packages (from ydata_profiling) (0.12.2)\n",
      "Requirement already satisfied: multimethod<2,>=1.4 in c:\\users\\dyavadi\\anaconda3\\lib\\site-packages (from ydata_profiling) (1.11.2)\n",
      "Requirement already satisfied: statsmodels<1,>=0.13.2 in c:\\users\\dyavadi\\anaconda3\\lib\\site-packages (from ydata_profiling) (0.14.0)\n",
      "Requirement already satisfied: typeguard<5,>=4.1.2 in c:\\users\\dyavadi\\anaconda3\\lib\\site-packages (from ydata_profiling) (4.2.1)\n",
      "Requirement already satisfied: imagehash==4.3.1 in c:\\users\\dyavadi\\anaconda3\\lib\\site-packages (from ydata_profiling) (4.3.1)\n",
      "Requirement already satisfied: wordcloud>=1.9.1 in c:\\users\\dyavadi\\anaconda3\\lib\\site-packages (from ydata_profiling) (1.9.3)\n",
      "Requirement already satisfied: dacite>=1.8 in c:\\users\\dyavadi\\anaconda3\\lib\\site-packages (from ydata_profiling) (1.8.1)\n",
      "Requirement already satisfied: numba<1,>=0.56.0 in c:\\users\\dyavadi\\anaconda3\\lib\\site-packages (from ydata_profiling) (0.59.0)\n",
      "Requirement already satisfied: PyWavelets in c:\\users\\dyavadi\\anaconda3\\lib\\site-packages (from imagehash==4.3.1->ydata_profiling) (1.5.0)\n",
      "Requirement already satisfied: pillow in c:\\users\\dyavadi\\anaconda3\\lib\\site-packages (from imagehash==4.3.1->ydata_profiling) (10.2.0)\n",
      "Requirement already satisfied: MarkupSafe>=2.0 in c:\\users\\dyavadi\\anaconda3\\lib\\site-packages (from jinja2<3.2,>=2.11.1->ydata_profiling) (2.1.3)\n",
      "Requirement already satisfied: contourpy>=1.0.1 in c:\\users\\dyavadi\\anaconda3\\lib\\site-packages (from matplotlib<3.9,>=3.2->ydata_profiling) (1.2.0)\n",
      "Requirement already satisfied: cycler>=0.10 in c:\\users\\dyavadi\\anaconda3\\lib\\site-packages (from matplotlib<3.9,>=3.2->ydata_profiling) (0.11.0)\n",
      "Requirement already satisfied: fonttools>=4.22.0 in c:\\users\\dyavadi\\anaconda3\\lib\\site-packages\\fonttools-4.51.0-py3.11-win-amd64.egg (from matplotlib<3.9,>=3.2->ydata_profiling) (4.51.0)\n",
      "Requirement already satisfied: kiwisolver>=1.3.1 in c:\\users\\dyavadi\\anaconda3\\lib\\site-packages (from matplotlib<3.9,>=3.2->ydata_profiling) (1.4.4)\n",
      "Requirement already satisfied: packaging>=20.0 in c:\\users\\dyavadi\\anaconda3\\lib\\site-packages (from matplotlib<3.9,>=3.2->ydata_profiling) (23.1)\n",
      "Requirement already satisfied: pyparsing>=2.3.1 in c:\\users\\dyavadi\\anaconda3\\lib\\site-packages (from matplotlib<3.9,>=3.2->ydata_profiling) (3.0.9)\n",
      "Requirement already satisfied: python-dateutil>=2.7 in c:\\users\\dyavadi\\anaconda3\\lib\\site-packages (from matplotlib<3.9,>=3.2->ydata_profiling) (2.8.2)\n",
      "Requirement already satisfied: llvmlite<0.43,>=0.42.0dev0 in c:\\users\\dyavadi\\anaconda3\\lib\\site-packages (from numba<1,>=0.56.0->ydata_profiling) (0.42.0)\n",
      "Requirement already satisfied: pytz>=2020.1 in c:\\users\\dyavadi\\anaconda3\\lib\\site-packages (from pandas!=1.4.0,<3,>1.1->ydata_profiling) (2023.3.post1)\n",
      "Requirement already satisfied: tzdata>=2022.7 in c:\\users\\dyavadi\\anaconda3\\lib\\site-packages (from pandas!=1.4.0,<3,>1.1->ydata_profiling) (2023.3)\n",
      "Requirement already satisfied: joblib>=0.14.1 in c:\\users\\dyavadi\\anaconda3\\lib\\site-packages (from phik<0.13,>=0.11.1->ydata_profiling) (1.1.1)\n",
      "Requirement already satisfied: annotated-types>=0.4.0 in c:\\users\\dyavadi\\anaconda3\\lib\\site-packages (from pydantic>=2->ydata_profiling) (0.6.0)\n",
      "Requirement already satisfied: pydantic-core==2.18.1 in c:\\users\\dyavadi\\anaconda3\\lib\\site-packages (from pydantic>=2->ydata_profiling) (2.18.1)\n",
      "Requirement already satisfied: typing-extensions>=4.6.1 in c:\\users\\dyavadi\\anaconda3\\lib\\site-packages (from pydantic>=2->ydata_profiling) (4.11.0)\n",
      "Requirement already satisfied: charset-normalizer<4,>=2 in c:\\users\\dyavadi\\anaconda3\\lib\\site-packages (from requests<3,>=2.24.0->ydata_profiling) (2.0.4)\n",
      "Requirement already satisfied: idna<4,>=2.5 in c:\\users\\dyavadi\\anaconda3\\lib\\site-packages (from requests<3,>=2.24.0->ydata_profiling) (3.4)\n",
      "Requirement already satisfied: urllib3<3,>=1.21.1 in c:\\users\\dyavadi\\anaconda3\\lib\\site-packages (from requests<3,>=2.24.0->ydata_profiling) (2.0.7)\n",
      "Requirement already satisfied: certifi>=2017.4.17 in c:\\users\\dyavadi\\anaconda3\\lib\\site-packages (from requests<3,>=2.24.0->ydata_profiling) (2024.2.2)\n",
      "Requirement already satisfied: patsy>=0.5.2 in c:\\users\\dyavadi\\anaconda3\\lib\\site-packages (from statsmodels<1,>=0.13.2->ydata_profiling) (0.5.3)\n",
      "Requirement already satisfied: colorama in c:\\users\\dyavadi\\anaconda3\\lib\\site-packages (from tqdm<5,>=4.48.2->ydata_profiling) (0.4.6)\n",
      "Requirement already satisfied: attrs>=19.3.0 in c:\\users\\dyavadi\\anaconda3\\lib\\site-packages (from visions<0.7.7,>=0.7.5->visions[type_image_path]<0.7.7,>=0.7.5->ydata_profiling) (23.1.0)\n",
      "Requirement already satisfied: networkx>=2.4 in c:\\users\\dyavadi\\anaconda3\\lib\\site-packages (from visions<0.7.7,>=0.7.5->visions[type_image_path]<0.7.7,>=0.7.5->ydata_profiling) (3.1)\n",
      "Requirement already satisfied: six in c:\\users\\dyavadi\\anaconda3\\lib\\site-packages (from patsy>=0.5.2->statsmodels<1,>=0.13.2->ydata_profiling) (1.16.0)\n",
      "Using cached visions-0.7.6-py3-none-any.whl (104 kB)\n",
      "Installing collected packages: visions\n",
      "  Attempting uninstall: visions\n",
      "    Found existing installation: visions 0.7.4\n",
      "    Uninstalling visions-0.7.4:\n",
      "      Successfully uninstalled visions-0.7.4\n",
      "Successfully installed visions-0.7.6\n"
     ]
    },
    {
     "name": "stderr",
     "output_type": "stream",
     "text": [
      "DEPRECATION: Loading egg at c:\\users\\dyavadi\\anaconda3\\lib\\site-packages\\appdirs-1.4.4-py3.11.egg is deprecated. pip 24.3 will enforce this behaviour change. A possible replacement is to use pip for package installation.. Discussion can be found at https://github.com/pypa/pip/issues/12330\n",
      "DEPRECATION: Loading egg at c:\\users\\dyavadi\\anaconda3\\lib\\site-packages\\fonttools-4.51.0-py3.11-win-amd64.egg is deprecated. pip 24.3 will enforce this behaviour change. A possible replacement is to use pip for package installation.. Discussion can be found at https://github.com/pypa/pip/issues/12330\n",
      "DEPRECATION: Loading egg at c:\\users\\dyavadi\\anaconda3\\lib\\site-packages\\housing_predictor-0.0.15-py3.11.egg is deprecated. pip 24.3 will enforce this behaviour change. A possible replacement is to use pip for package installation.. Discussion can be found at https://github.com/pypa/pip/issues/12330\n",
      "ERROR: pip's dependency resolver does not currently take into account all the packages that are installed. This behaviour is the source of the following dependency conflicts.\n",
      "pandas-profiling 3.2.0 requires visions[type_image_path]==0.7.4, but you have visions 0.7.6 which is incompatible.\n"
     ]
    }
   ],
   "source": [
    "# Using Pandas Profiling\n",
    "!pip install ydata_profiling"
   ]
  },
  {
   "cell_type": "code",
   "execution_count": 31,
   "id": "d25d5594-771e-46b7-99bf-56400f89cbe5",
   "metadata": {},
   "outputs": [],
   "source": [
    "import ydata_profiling"
   ]
  },
  {
   "cell_type": "code",
   "execution_count": 32,
   "id": "14eb197b-f9c0-44b8-badc-df1ec8b86557",
   "metadata": {},
   "outputs": [
    {
     "name": "stdout",
     "output_type": "stream",
     "text": [
      "Collecting visions==0.7.4\n",
      "  Using cached visions-0.7.4-py3-none-any.whl.metadata (5.9 kB)\n",
      "Requirement already satisfied: numpy in c:\\users\\dyavadi\\anaconda3\\lib\\site-packages (from visions==0.7.4) (1.26.4)\n",
      "Requirement already satisfied: pandas>=0.25.3 in c:\\users\\dyavadi\\anaconda3\\lib\\site-packages (from visions==0.7.4) (2.2.2)\n",
      "Requirement already satisfied: attrs>=19.3.0 in c:\\users\\dyavadi\\anaconda3\\lib\\site-packages (from visions==0.7.4) (23.1.0)\n",
      "Requirement already satisfied: networkx>=2.4 in c:\\users\\dyavadi\\anaconda3\\lib\\site-packages (from visions==0.7.4) (3.1)\n",
      "Requirement already satisfied: tangled-up-in-unicode>=0.0.4 in c:\\users\\dyavadi\\anaconda3\\lib\\site-packages (from visions==0.7.4) (0.2.0)\n",
      "Requirement already satisfied: multimethod>=1.4 in c:\\users\\dyavadi\\anaconda3\\lib\\site-packages (from visions==0.7.4) (1.11.2)\n",
      "Requirement already satisfied: python-dateutil>=2.8.2 in c:\\users\\dyavadi\\anaconda3\\lib\\site-packages (from pandas>=0.25.3->visions==0.7.4) (2.8.2)\n",
      "Requirement already satisfied: pytz>=2020.1 in c:\\users\\dyavadi\\anaconda3\\lib\\site-packages (from pandas>=0.25.3->visions==0.7.4) (2023.3.post1)\n",
      "Requirement already satisfied: tzdata>=2022.7 in c:\\users\\dyavadi\\anaconda3\\lib\\site-packages (from pandas>=0.25.3->visions==0.7.4) (2023.3)\n",
      "Requirement already satisfied: six>=1.5 in c:\\users\\dyavadi\\anaconda3\\lib\\site-packages (from python-dateutil>=2.8.2->pandas>=0.25.3->visions==0.7.4) (1.16.0)\n",
      "Using cached visions-0.7.4-py3-none-any.whl (102 kB)\n",
      "Installing collected packages: visions\n",
      "  Attempting uninstall: visions\n",
      "    Found existing installation: visions 0.7.6\n",
      "    Uninstalling visions-0.7.6:\n",
      "      Successfully uninstalled visions-0.7.6\n",
      "Successfully installed visions-0.7.4\n"
     ]
    },
    {
     "name": "stderr",
     "output_type": "stream",
     "text": [
      "DEPRECATION: Loading egg at c:\\users\\dyavadi\\anaconda3\\lib\\site-packages\\appdirs-1.4.4-py3.11.egg is deprecated. pip 24.3 will enforce this behaviour change. A possible replacement is to use pip for package installation.. Discussion can be found at https://github.com/pypa/pip/issues/12330\n",
      "DEPRECATION: Loading egg at c:\\users\\dyavadi\\anaconda3\\lib\\site-packages\\fonttools-4.51.0-py3.11-win-amd64.egg is deprecated. pip 24.3 will enforce this behaviour change. A possible replacement is to use pip for package installation.. Discussion can be found at https://github.com/pypa/pip/issues/12330\n",
      "DEPRECATION: Loading egg at c:\\users\\dyavadi\\anaconda3\\lib\\site-packages\\housing_predictor-0.0.15-py3.11.egg is deprecated. pip 24.3 will enforce this behaviour change. A possible replacement is to use pip for package installation.. Discussion can be found at https://github.com/pypa/pip/issues/12330\n",
      "ERROR: pip's dependency resolver does not currently take into account all the packages that are installed. This behaviour is the source of the following dependency conflicts.\n",
      "ydata-profiling 4.7.0 requires visions[type_image_path]<0.7.7,>=0.7.5, but you have visions 0.7.4 which is incompatible.\n"
     ]
    }
   ],
   "source": [
    "!pip install visions==0.7.4"
   ]
  },
  {
   "cell_type": "code",
   "execution_count": 33,
   "id": "8c4799fe-7c95-496c-a813-37e69cbbb08e",
   "metadata": {},
   "outputs": [],
   "source": [
    "import seaborn as sns\n",
    "df=sns.load_dataset('tips')"
   ]
  },
  {
   "cell_type": "code",
   "execution_count": 34,
   "id": "f4dbc227-df4b-4973-88a1-16c31357b8c0",
   "metadata": {},
   "outputs": [
    {
     "data": {
      "text/html": [
       "<div>\n",
       "<style scoped>\n",
       "    .dataframe tbody tr th:only-of-type {\n",
       "        vertical-align: middle;\n",
       "    }\n",
       "\n",
       "    .dataframe tbody tr th {\n",
       "        vertical-align: top;\n",
       "    }\n",
       "\n",
       "    .dataframe thead th {\n",
       "        text-align: right;\n",
       "    }\n",
       "</style>\n",
       "<table border=\"1\" class=\"dataframe\">\n",
       "  <thead>\n",
       "    <tr style=\"text-align: right;\">\n",
       "      <th></th>\n",
       "      <th>total_bill</th>\n",
       "      <th>tip</th>\n",
       "      <th>sex</th>\n",
       "      <th>smoker</th>\n",
       "      <th>day</th>\n",
       "      <th>time</th>\n",
       "      <th>size</th>\n",
       "    </tr>\n",
       "  </thead>\n",
       "  <tbody>\n",
       "    <tr>\n",
       "      <th>0</th>\n",
       "      <td>16.99</td>\n",
       "      <td>1.01</td>\n",
       "      <td>Female</td>\n",
       "      <td>No</td>\n",
       "      <td>Sun</td>\n",
       "      <td>Dinner</td>\n",
       "      <td>2</td>\n",
       "    </tr>\n",
       "    <tr>\n",
       "      <th>1</th>\n",
       "      <td>10.34</td>\n",
       "      <td>1.66</td>\n",
       "      <td>Male</td>\n",
       "      <td>No</td>\n",
       "      <td>Sun</td>\n",
       "      <td>Dinner</td>\n",
       "      <td>3</td>\n",
       "    </tr>\n",
       "    <tr>\n",
       "      <th>2</th>\n",
       "      <td>21.01</td>\n",
       "      <td>3.50</td>\n",
       "      <td>Male</td>\n",
       "      <td>No</td>\n",
       "      <td>Sun</td>\n",
       "      <td>Dinner</td>\n",
       "      <td>3</td>\n",
       "    </tr>\n",
       "    <tr>\n",
       "      <th>3</th>\n",
       "      <td>23.68</td>\n",
       "      <td>3.31</td>\n",
       "      <td>Male</td>\n",
       "      <td>No</td>\n",
       "      <td>Sun</td>\n",
       "      <td>Dinner</td>\n",
       "      <td>2</td>\n",
       "    </tr>\n",
       "    <tr>\n",
       "      <th>4</th>\n",
       "      <td>24.59</td>\n",
       "      <td>3.61</td>\n",
       "      <td>Female</td>\n",
       "      <td>No</td>\n",
       "      <td>Sun</td>\n",
       "      <td>Dinner</td>\n",
       "      <td>4</td>\n",
       "    </tr>\n",
       "  </tbody>\n",
       "</table>\n",
       "</div>"
      ],
      "text/plain": [
       "   total_bill   tip     sex smoker  day    time  size\n",
       "0       16.99  1.01  Female     No  Sun  Dinner     2\n",
       "1       10.34  1.66    Male     No  Sun  Dinner     3\n",
       "2       21.01  3.50    Male     No  Sun  Dinner     3\n",
       "3       23.68  3.31    Male     No  Sun  Dinner     2\n",
       "4       24.59  3.61  Female     No  Sun  Dinner     4"
      ]
     },
     "execution_count": 34,
     "metadata": {},
     "output_type": "execute_result"
    }
   ],
   "source": [
    "df.head()"
   ]
  },
  {
   "cell_type": "code",
   "execution_count": 35,
   "id": "6f2a1101-cbc7-416a-84f4-a8abfa00cb42",
   "metadata": {},
   "outputs": [],
   "source": [
    "from ydata_profiling import ProfileReport"
   ]
  },
  {
   "cell_type": "code",
   "execution_count": 36,
   "id": "6285ac08-0608-49f1-acca-a2395545040e",
   "metadata": {},
   "outputs": [],
   "source": [
    "profile=ProfileReport(df)"
   ]
  },
  {
   "cell_type": "code",
   "execution_count": 37,
   "id": "5060319b-4a25-4669-8829-1b3755784b37",
   "metadata": {},
   "outputs": [
    {
     "data": {
      "application/vnd.jupyter.widget-view+json": {
       "model_id": "401e51f1772d4f19885a1fc8e936558f",
       "version_major": 2,
       "version_minor": 0
      },
      "text/plain": [
       "Summarize dataset:   0%|          | 0/5 [00:00<?, ?it/s]"
      ]
     },
     "metadata": {},
     "output_type": "display_data"
    },
    {
     "name": "stderr",
     "output_type": "stream",
     "text": [
      "C:\\Users\\DYAVADI\\anaconda3\\Lib\\site-packages\\ydata_profiling\\model\\correlations.py:66: UserWarning:\n",
      "\n",
      "There was an attempt to calculate the auto correlation, but this failed.\n",
      "To hide this warning, disable the calculation\n",
      "(using `df.profile_report(correlations={\"auto\": {\"calculate\": False}})`\n",
      "If this is problematic for your use case, please report this as an issue:\n",
      "https://github.com/ydataai/ydata-profiling/issues\n",
      "(include the error message: 'could not convert string to float: 'Sun'')\n",
      "\n"
     ]
    },
    {
     "data": {
      "application/vnd.jupyter.widget-view+json": {
       "model_id": "05ff644dbd2a4820b842bcbbd5422eac",
       "version_major": 2,
       "version_minor": 0
      },
      "text/plain": [
       "Generate report structure:   0%|          | 0/1 [00:00<?, ?it/s]"
      ]
     },
     "metadata": {},
     "output_type": "display_data"
    },
    {
     "data": {
      "application/vnd.jupyter.widget-view+json": {
       "model_id": "aed365020985469988f5e716421afc08",
       "version_major": 2,
       "version_minor": 0
      },
      "text/plain": [
       "Render HTML:   0%|          | 0/1 [00:00<?, ?it/s]"
      ]
     },
     "metadata": {},
     "output_type": "display_data"
    },
    {
     "data": {
      "application/vnd.jupyter.widget-view+json": {
       "model_id": "e3b50b0818044aaa9f47003862f924a7",
       "version_major": 2,
       "version_minor": 0
      },
      "text/plain": [
       "Export report to file:   0%|          | 0/1 [00:00<?, ?it/s]"
      ]
     },
     "metadata": {},
     "output_type": "display_data"
    }
   ],
   "source": [
    "profile.to_file('output.html')"
   ]
  },
  {
   "cell_type": "markdown",
   "id": "1601fedf-f70e-4dfe-9616-0844bceb7635",
   "metadata": {},
   "source": [
    "## dtale"
   ]
  },
  {
   "cell_type": "code",
   "execution_count": 38,
   "id": "41b1493c-3928-4633-ab1c-475b20ebcbb3",
   "metadata": {},
   "outputs": [
    {
     "name": "stdout",
     "output_type": "stream",
     "text": [
      "Requirement already satisfied: dtale in c:\\users\\dyavadi\\anaconda3\\lib\\site-packages (3.12.0)\n",
      "Requirement already satisfied: dash-colorscales in c:\\users\\dyavadi\\anaconda3\\lib\\site-packages (from dtale) (0.0.4)\n",
      "Requirement already satisfied: dash-daq in c:\\users\\dyavadi\\anaconda3\\lib\\site-packages (from dtale) (0.5.0)\n",
      "Requirement already satisfied: Flask-Compress in c:\\users\\dyavadi\\anaconda3\\lib\\site-packages (from dtale) (1.15)\n",
      "Requirement already satisfied: future>=0.14.0 in c:\\users\\dyavadi\\anaconda3\\lib\\site-packages (from dtale) (0.18.3)\n",
      "Requirement already satisfied: kaleido in c:\\users\\dyavadi\\anaconda3\\lib\\site-packages (from dtale) (0.2.1)\n",
      "Requirement already satisfied: missingno in c:\\users\\dyavadi\\anaconda3\\lib\\site-packages (from dtale) (0.5.2)\n",
      "Requirement already satisfied: pandas in c:\\users\\dyavadi\\anaconda3\\lib\\site-packages (from dtale) (2.2.2)\n",
      "Requirement already satisfied: squarify in c:\\users\\dyavadi\\anaconda3\\lib\\site-packages (from dtale) (0.4.3)\n",
      "Requirement already satisfied: strsimpy in c:\\users\\dyavadi\\anaconda3\\lib\\site-packages (from dtale) (0.2.1)\n",
      "Requirement already satisfied: six in c:\\users\\dyavadi\\anaconda3\\lib\\site-packages (from dtale) (1.16.0)\n",
      "Requirement already satisfied: xlrd in c:\\users\\dyavadi\\anaconda3\\lib\\site-packages (from dtale) (2.0.1)\n",
      "Requirement already satisfied: beautifulsoup4!=4.13.0b2 in c:\\users\\dyavadi\\anaconda3\\lib\\site-packages (from dtale) (4.12.2)\n",
      "Requirement already satisfied: certifi in c:\\users\\dyavadi\\anaconda3\\lib\\site-packages (from dtale) (2024.2.2)\n",
      "Requirement already satisfied: flask-ngrok in c:\\users\\dyavadi\\anaconda3\\lib\\site-packages (from dtale) (0.0.25)\n",
      "Requirement already satisfied: lz4 in c:\\users\\dyavadi\\anaconda3\\lib\\site-packages (from dtale) (4.3.2)\n",
      "Requirement already satisfied: cycler in c:\\users\\dyavadi\\anaconda3\\lib\\site-packages (from dtale) (0.11.0)\n",
      "Requirement already satisfied: dash-bootstrap-components<=1.3.1 in c:\\users\\dyavadi\\anaconda3\\lib\\site-packages (from dtale) (1.3.1)\n",
      "Requirement already satisfied: dash in c:\\users\\dyavadi\\anaconda3\\lib\\site-packages (from dtale) (2.17.0)\n",
      "Requirement already satisfied: seaborn in c:\\users\\dyavadi\\anaconda3\\lib\\site-packages (from dtale) (0.12.2)\n",
      "Requirement already satisfied: werkzeug in c:\\users\\dyavadi\\anaconda3\\lib\\site-packages (from dtale) (2.2.3)\n",
      "Requirement already satisfied: scikit-learn in c:\\users\\dyavadi\\anaconda3\\lib\\site-packages (from dtale) (1.2.2)\n",
      "Requirement already satisfied: statsmodels in c:\\users\\dyavadi\\anaconda3\\lib\\site-packages (from dtale) (0.14.0)\n",
      "Requirement already satisfied: networkx in c:\\users\\dyavadi\\anaconda3\\lib\\site-packages (from dtale) (3.1)\n",
      "Requirement already satisfied: numpy in c:\\users\\dyavadi\\anaconda3\\lib\\site-packages (from dtale) (1.26.4)\n",
      "Requirement already satisfied: openpyxl!=3.2.0b1 in c:\\users\\dyavadi\\anaconda3\\lib\\site-packages (from dtale) (3.1.0)\n",
      "Requirement already satisfied: xarray in c:\\users\\dyavadi\\anaconda3\\lib\\site-packages (from dtale) (2023.6.0)\n",
      "Requirement already satisfied: et-xmlfile in c:\\users\\dyavadi\\anaconda3\\lib\\site-packages (from dtale) (1.1.0)\n",
      "Requirement already satisfied: plotly in c:\\users\\dyavadi\\anaconda3\\lib\\site-packages (from dtale) (5.20.0)\n",
      "Requirement already satisfied: Flask<2.3 in c:\\users\\dyavadi\\anaconda3\\lib\\site-packages (from dtale) (2.2.5)\n",
      "Requirement already satisfied: requests in c:\\users\\dyavadi\\anaconda3\\lib\\site-packages (from dtale) (2.31.0)\n",
      "Requirement already satisfied: itsdangerous in c:\\users\\dyavadi\\anaconda3\\lib\\site-packages (from dtale) (2.0.1)\n",
      "Requirement already satisfied: contourpy in c:\\users\\dyavadi\\anaconda3\\lib\\site-packages (from dtale) (1.2.0)\n",
      "Requirement already satisfied: matplotlib in c:\\users\\dyavadi\\anaconda3\\lib\\site-packages (from dtale) (3.8.4)\n",
      "Requirement already satisfied: scipy!=1.12.0rc1 in c:\\users\\dyavadi\\anaconda3\\lib\\site-packages (from dtale) (1.11.4)\n",
      "Requirement already satisfied: soupsieve>1.2 in c:\\users\\dyavadi\\anaconda3\\lib\\site-packages (from beautifulsoup4!=4.13.0b2->dtale) (2.5)\n",
      "Requirement already satisfied: dash-html-components==2.0.0 in c:\\users\\dyavadi\\anaconda3\\lib\\site-packages (from dash->dtale) (2.0.0)\n",
      "Requirement already satisfied: dash-core-components==2.0.0 in c:\\users\\dyavadi\\anaconda3\\lib\\site-packages (from dash->dtale) (2.0.0)\n",
      "Requirement already satisfied: dash-table==5.0.0 in c:\\users\\dyavadi\\anaconda3\\lib\\site-packages (from dash->dtale) (5.0.0)\n",
      "Requirement already satisfied: importlib-metadata in c:\\users\\dyavadi\\anaconda3\\lib\\site-packages (from dash->dtale) (7.0.1)\n",
      "Requirement already satisfied: typing-extensions>=4.1.1 in c:\\users\\dyavadi\\anaconda3\\lib\\site-packages (from dash->dtale) (4.11.0)\n",
      "Requirement already satisfied: retrying in c:\\users\\dyavadi\\anaconda3\\lib\\site-packages (from dash->dtale) (1.3.4)\n",
      "Requirement already satisfied: nest-asyncio in c:\\users\\dyavadi\\anaconda3\\lib\\site-packages (from dash->dtale) (1.6.0)\n",
      "Requirement already satisfied: setuptools in c:\\users\\dyavadi\\anaconda3\\lib\\site-packages (from dash->dtale) (68.2.2)\n",
      "Requirement already satisfied: Jinja2>=3.0 in c:\\users\\dyavadi\\anaconda3\\lib\\site-packages (from Flask<2.3->dtale) (3.1.3)\n",
      "Requirement already satisfied: click>=8.0 in c:\\users\\dyavadi\\anaconda3\\lib\\site-packages (from Flask<2.3->dtale) (8.1.7)\n",
      "Requirement already satisfied: tenacity>=6.2.0 in c:\\users\\dyavadi\\anaconda3\\lib\\site-packages (from plotly->dtale) (8.2.2)\n",
      "Requirement already satisfied: packaging in c:\\users\\dyavadi\\anaconda3\\lib\\site-packages (from plotly->dtale) (23.1)\n",
      "Requirement already satisfied: MarkupSafe>=2.1.1 in c:\\users\\dyavadi\\anaconda3\\lib\\site-packages (from werkzeug->dtale) (2.1.3)\n",
      "Requirement already satisfied: brotli in c:\\users\\dyavadi\\anaconda3\\lib\\site-packages (from Flask-Compress->dtale) (1.0.9)\n",
      "Requirement already satisfied: zstandard in c:\\users\\dyavadi\\anaconda3\\lib\\site-packages (from Flask-Compress->dtale) (0.19.0)\n",
      "Requirement already satisfied: fonttools>=4.22.0 in c:\\users\\dyavadi\\anaconda3\\lib\\site-packages\\fonttools-4.51.0-py3.11-win-amd64.egg (from matplotlib->dtale) (4.51.0)\n",
      "Requirement already satisfied: kiwisolver>=1.3.1 in c:\\users\\dyavadi\\anaconda3\\lib\\site-packages (from matplotlib->dtale) (1.4.4)\n",
      "Requirement already satisfied: pillow>=8 in c:\\users\\dyavadi\\anaconda3\\lib\\site-packages (from matplotlib->dtale) (10.2.0)\n",
      "Requirement already satisfied: pyparsing>=2.3.1 in c:\\users\\dyavadi\\anaconda3\\lib\\site-packages (from matplotlib->dtale) (3.0.9)\n",
      "Requirement already satisfied: python-dateutil>=2.7 in c:\\users\\dyavadi\\anaconda3\\lib\\site-packages (from matplotlib->dtale) (2.8.2)\n",
      "Requirement already satisfied: pytz>=2020.1 in c:\\users\\dyavadi\\anaconda3\\lib\\site-packages (from pandas->dtale) (2023.3.post1)\n",
      "Requirement already satisfied: tzdata>=2022.7 in c:\\users\\dyavadi\\anaconda3\\lib\\site-packages (from pandas->dtale) (2023.3)\n",
      "Requirement already satisfied: charset-normalizer<4,>=2 in c:\\users\\dyavadi\\anaconda3\\lib\\site-packages (from requests->dtale) (2.0.4)\n",
      "Requirement already satisfied: idna<4,>=2.5 in c:\\users\\dyavadi\\anaconda3\\lib\\site-packages (from requests->dtale) (3.4)\n",
      "Requirement already satisfied: urllib3<3,>=1.21.1 in c:\\users\\dyavadi\\anaconda3\\lib\\site-packages (from requests->dtale) (2.0.7)\n",
      "Requirement already satisfied: joblib>=1.1.1 in c:\\users\\dyavadi\\anaconda3\\lib\\site-packages (from scikit-learn->dtale) (1.1.1)\n",
      "Requirement already satisfied: threadpoolctl>=2.0.0 in c:\\users\\dyavadi\\anaconda3\\lib\\site-packages (from scikit-learn->dtale) (2.2.0)\n",
      "Requirement already satisfied: patsy>=0.5.2 in c:\\users\\dyavadi\\anaconda3\\lib\\site-packages (from statsmodels->dtale) (0.5.3)\n",
      "Requirement already satisfied: colorama in c:\\users\\dyavadi\\anaconda3\\lib\\site-packages (from click>=8.0->Flask<2.3->dtale) (0.4.6)\n",
      "Requirement already satisfied: zipp>=0.5 in c:\\users\\dyavadi\\anaconda3\\lib\\site-packages (from importlib-metadata->dash->dtale) (3.17.0)\n"
     ]
    },
    {
     "name": "stderr",
     "output_type": "stream",
     "text": [
      "DEPRECATION: Loading egg at c:\\users\\dyavadi\\anaconda3\\lib\\site-packages\\appdirs-1.4.4-py3.11.egg is deprecated. pip 24.3 will enforce this behaviour change. A possible replacement is to use pip for package installation.. Discussion can be found at https://github.com/pypa/pip/issues/12330\n",
      "DEPRECATION: Loading egg at c:\\users\\dyavadi\\anaconda3\\lib\\site-packages\\fonttools-4.51.0-py3.11-win-amd64.egg is deprecated. pip 24.3 will enforce this behaviour change. A possible replacement is to use pip for package installation.. Discussion can be found at https://github.com/pypa/pip/issues/12330\n",
      "DEPRECATION: Loading egg at c:\\users\\dyavadi\\anaconda3\\lib\\site-packages\\housing_predictor-0.0.15-py3.11.egg is deprecated. pip 24.3 will enforce this behaviour change. A possible replacement is to use pip for package installation.. Discussion can be found at https://github.com/pypa/pip/issues/12330\n"
     ]
    }
   ],
   "source": [
    "!pip install dtale"
   ]
  },
  {
   "cell_type": "code",
   "execution_count": 39,
   "id": "996e7777-e375-447f-bd93-b1c80b899c15",
   "metadata": {},
   "outputs": [],
   "source": [
    "df=sns.load_dataset('tips')"
   ]
  },
  {
   "cell_type": "code",
   "execution_count": 40,
   "id": "83a1fee9-394e-4b94-b048-47efb3c4c888",
   "metadata": {},
   "outputs": [
    {
     "data": {
      "text/html": [
       "\n",
       "        <iframe\n",
       "            width=\"100%\"\n",
       "            height=\"475\"\n",
       "            src=\"http://DYAVADI:40000/dtale/iframe/4\"\n",
       "            frameborder=\"0\"\n",
       "            allowfullscreen\n",
       "            \n",
       "        ></iframe>\n",
       "        "
      ],
      "text/plain": [
       "<IPython.lib.display.IFrame at 0x1e1b8280cd0>"
      ]
     },
     "metadata": {},
     "output_type": "display_data"
    },
    {
     "data": {
      "text/plain": []
     },
     "execution_count": 40,
     "metadata": {},
     "output_type": "execute_result"
    }
   ],
   "source": [
    "import dtale\n",
    "dtale.show(df)"
   ]
  },
  {
   "cell_type": "markdown",
   "id": "b1f5d2cc-917a-4b18-b499-6204bf693361",
   "metadata": {},
   "source": [
    "## Sweetviz"
   ]
  },
  {
   "cell_type": "code",
   "execution_count": 41,
   "id": "a7c8e830-ffbc-499a-8a33-eeed9e8181be",
   "metadata": {},
   "outputs": [
    {
     "name": "stdout",
     "output_type": "stream",
     "text": [
      "Requirement already satisfied: sweetviz in c:\\users\\dyavadi\\anaconda3\\lib\\site-packages (2.3.1)\n",
      "Requirement already satisfied: pandas!=1.0.0,!=1.0.1,!=1.0.2,>=0.25.3 in c:\\users\\dyavadi\\anaconda3\\lib\\site-packages (from sweetviz) (2.2.2)\n",
      "Requirement already satisfied: numpy>=1.16.0 in c:\\users\\dyavadi\\anaconda3\\lib\\site-packages (from sweetviz) (1.26.4)\n",
      "Requirement already satisfied: matplotlib>=3.1.3 in c:\\users\\dyavadi\\anaconda3\\lib\\site-packages (from sweetviz) (3.8.4)\n",
      "Requirement already satisfied: tqdm>=4.43.0 in c:\\users\\dyavadi\\anaconda3\\lib\\site-packages (from sweetviz) (4.65.0)\n",
      "Requirement already satisfied: scipy>=1.3.2 in c:\\users\\dyavadi\\anaconda3\\lib\\site-packages (from sweetviz) (1.11.4)\n",
      "Requirement already satisfied: jinja2>=2.11.1 in c:\\users\\dyavadi\\anaconda3\\lib\\site-packages (from sweetviz) (3.1.3)\n",
      "Requirement already satisfied: importlib-resources>=1.2.0 in c:\\users\\dyavadi\\anaconda3\\lib\\site-packages (from sweetviz) (6.4.0)\n",
      "Requirement already satisfied: MarkupSafe>=2.0 in c:\\users\\dyavadi\\anaconda3\\lib\\site-packages (from jinja2>=2.11.1->sweetviz) (2.1.3)\n",
      "Requirement already satisfied: contourpy>=1.0.1 in c:\\users\\dyavadi\\anaconda3\\lib\\site-packages (from matplotlib>=3.1.3->sweetviz) (1.2.0)\n",
      "Requirement already satisfied: cycler>=0.10 in c:\\users\\dyavadi\\anaconda3\\lib\\site-packages (from matplotlib>=3.1.3->sweetviz) (0.11.0)\n",
      "Requirement already satisfied: fonttools>=4.22.0 in c:\\users\\dyavadi\\anaconda3\\lib\\site-packages\\fonttools-4.51.0-py3.11-win-amd64.egg (from matplotlib>=3.1.3->sweetviz) (4.51.0)\n",
      "Requirement already satisfied: kiwisolver>=1.3.1 in c:\\users\\dyavadi\\anaconda3\\lib\\site-packages (from matplotlib>=3.1.3->sweetviz) (1.4.4)\n",
      "Requirement already satisfied: packaging>=20.0 in c:\\users\\dyavadi\\anaconda3\\lib\\site-packages (from matplotlib>=3.1.3->sweetviz) (23.1)\n",
      "Requirement already satisfied: pillow>=8 in c:\\users\\dyavadi\\anaconda3\\lib\\site-packages (from matplotlib>=3.1.3->sweetviz) (10.2.0)\n",
      "Requirement already satisfied: pyparsing>=2.3.1 in c:\\users\\dyavadi\\anaconda3\\lib\\site-packages (from matplotlib>=3.1.3->sweetviz) (3.0.9)\n",
      "Requirement already satisfied: python-dateutil>=2.7 in c:\\users\\dyavadi\\anaconda3\\lib\\site-packages (from matplotlib>=3.1.3->sweetviz) (2.8.2)\n",
      "Requirement already satisfied: pytz>=2020.1 in c:\\users\\dyavadi\\anaconda3\\lib\\site-packages (from pandas!=1.0.0,!=1.0.1,!=1.0.2,>=0.25.3->sweetviz) (2023.3.post1)\n",
      "Requirement already satisfied: tzdata>=2022.7 in c:\\users\\dyavadi\\anaconda3\\lib\\site-packages (from pandas!=1.0.0,!=1.0.1,!=1.0.2,>=0.25.3->sweetviz) (2023.3)\n",
      "Requirement already satisfied: colorama in c:\\users\\dyavadi\\anaconda3\\lib\\site-packages (from tqdm>=4.43.0->sweetviz) (0.4.6)\n",
      "Requirement already satisfied: six>=1.5 in c:\\users\\dyavadi\\anaconda3\\lib\\site-packages (from python-dateutil>=2.7->matplotlib>=3.1.3->sweetviz) (1.16.0)\n"
     ]
    },
    {
     "name": "stderr",
     "output_type": "stream",
     "text": [
      "DEPRECATION: Loading egg at c:\\users\\dyavadi\\anaconda3\\lib\\site-packages\\appdirs-1.4.4-py3.11.egg is deprecated. pip 24.3 will enforce this behaviour change. A possible replacement is to use pip for package installation.. Discussion can be found at https://github.com/pypa/pip/issues/12330\n",
      "DEPRECATION: Loading egg at c:\\users\\dyavadi\\anaconda3\\lib\\site-packages\\fonttools-4.51.0-py3.11-win-amd64.egg is deprecated. pip 24.3 will enforce this behaviour change. A possible replacement is to use pip for package installation.. Discussion can be found at https://github.com/pypa/pip/issues/12330\n",
      "DEPRECATION: Loading egg at c:\\users\\dyavadi\\anaconda3\\lib\\site-packages\\housing_predictor-0.0.15-py3.11.egg is deprecated. pip 24.3 will enforce this behaviour change. A possible replacement is to use pip for package installation.. Discussion can be found at https://github.com/pypa/pip/issues/12330\n"
     ]
    }
   ],
   "source": [
    "!pip install sweetviz"
   ]
  },
  {
   "cell_type": "code",
   "execution_count": 42,
   "id": "0ee087ad-c182-4ebb-ab04-9224afd5202c",
   "metadata": {},
   "outputs": [
    {
     "data": {
      "application/vnd.jupyter.widget-view+json": {
       "model_id": "400c3153470c4bb294a19143de57faf6",
       "version_major": 2,
       "version_minor": 0
      },
      "text/plain": [
       "                                             |                                             | [  0%]   00:00 ->…"
      ]
     },
     "metadata": {},
     "output_type": "display_data"
    },
    {
     "name": "stdout",
     "output_type": "stream",
     "text": [
      "Report newreport.html was generated! NOTEBOOK/COLAB USERS: the web browser MAY not pop up, regardless, the report IS saved in your notebook/colab files.\n"
     ]
    }
   ],
   "source": [
    "import sweetviz as sv\n",
    "report=sv.analyze(df)\n",
    "report.show_html('newreport.html')"
   ]
  },
  {
   "cell_type": "markdown",
   "id": "bb1d2c21-fb26-44f8-ace2-a29c39e45f31",
   "metadata": {},
   "source": [
    "## Dataprep"
   ]
  },
  {
   "cell_type": "code",
   "execution_count": 43,
   "id": "665c1f65-c55e-451d-ab7a-f057329d793b",
   "metadata": {},
   "outputs": [
    {
     "name": "stdout",
     "output_type": "stream",
     "text": [
      "Requirement already satisfied: Tensorflow in c:\\users\\dyavadi\\anaconda3\\lib\\site-packages (2.16.1)\n",
      "Requirement already satisfied: tensorflow-intel==2.16.1 in c:\\users\\dyavadi\\anaconda3\\lib\\site-packages (from Tensorflow) (2.16.1)\n",
      "Requirement already satisfied: absl-py>=1.0.0 in c:\\users\\dyavadi\\anaconda3\\lib\\site-packages (from tensorflow-intel==2.16.1->Tensorflow) (2.1.0)\n",
      "Requirement already satisfied: astunparse>=1.6.0 in c:\\users\\dyavadi\\anaconda3\\lib\\site-packages (from tensorflow-intel==2.16.1->Tensorflow) (1.6.3)\n",
      "Requirement already satisfied: flatbuffers>=23.5.26 in c:\\users\\dyavadi\\anaconda3\\lib\\site-packages (from tensorflow-intel==2.16.1->Tensorflow) (24.3.25)\n",
      "Requirement already satisfied: gast!=0.5.0,!=0.5.1,!=0.5.2,>=0.2.1 in c:\\users\\dyavadi\\anaconda3\\lib\\site-packages (from tensorflow-intel==2.16.1->Tensorflow) (0.5.4)\n",
      "Requirement already satisfied: google-pasta>=0.1.1 in c:\\users\\dyavadi\\anaconda3\\lib\\site-packages (from tensorflow-intel==2.16.1->Tensorflow) (0.2.0)\n",
      "Requirement already satisfied: h5py>=3.10.0 in c:\\users\\dyavadi\\anaconda3\\lib\\site-packages (from tensorflow-intel==2.16.1->Tensorflow) (3.11.0)\n",
      "Requirement already satisfied: libclang>=13.0.0 in c:\\users\\dyavadi\\anaconda3\\lib\\site-packages (from tensorflow-intel==2.16.1->Tensorflow) (18.1.1)\n",
      "Requirement already satisfied: ml-dtypes~=0.3.1 in c:\\users\\dyavadi\\anaconda3\\lib\\site-packages (from tensorflow-intel==2.16.1->Tensorflow) (0.3.2)\n",
      "Requirement already satisfied: opt-einsum>=2.3.2 in c:\\users\\dyavadi\\anaconda3\\lib\\site-packages (from tensorflow-intel==2.16.1->Tensorflow) (3.3.0)\n",
      "Requirement already satisfied: packaging in c:\\users\\dyavadi\\anaconda3\\lib\\site-packages (from tensorflow-intel==2.16.1->Tensorflow) (23.1)\n",
      "Requirement already satisfied: protobuf!=4.21.0,!=4.21.1,!=4.21.2,!=4.21.3,!=4.21.4,!=4.21.5,<5.0.0dev,>=3.20.3 in c:\\users\\dyavadi\\anaconda3\\lib\\site-packages (from tensorflow-intel==2.16.1->Tensorflow) (3.20.3)\n",
      "Requirement already satisfied: requests<3,>=2.21.0 in c:\\users\\dyavadi\\anaconda3\\lib\\site-packages (from tensorflow-intel==2.16.1->Tensorflow) (2.31.0)\n",
      "Requirement already satisfied: setuptools in c:\\users\\dyavadi\\anaconda3\\lib\\site-packages (from tensorflow-intel==2.16.1->Tensorflow) (68.2.2)\n",
      "Requirement already satisfied: six>=1.12.0 in c:\\users\\dyavadi\\anaconda3\\lib\\site-packages (from tensorflow-intel==2.16.1->Tensorflow) (1.16.0)\n",
      "Requirement already satisfied: termcolor>=1.1.0 in c:\\users\\dyavadi\\anaconda3\\lib\\site-packages (from tensorflow-intel==2.16.1->Tensorflow) (2.4.0)\n",
      "Requirement already satisfied: typing-extensions>=3.6.6 in c:\\users\\dyavadi\\anaconda3\\lib\\site-packages (from tensorflow-intel==2.16.1->Tensorflow) (4.11.0)\n",
      "Requirement already satisfied: wrapt>=1.11.0 in c:\\users\\dyavadi\\anaconda3\\lib\\site-packages (from tensorflow-intel==2.16.1->Tensorflow) (1.14.1)\n",
      "Requirement already satisfied: grpcio<2.0,>=1.24.3 in c:\\users\\dyavadi\\anaconda3\\lib\\site-packages (from tensorflow-intel==2.16.1->Tensorflow) (1.63.0)\n",
      "Requirement already satisfied: tensorboard<2.17,>=2.16 in c:\\users\\dyavadi\\anaconda3\\lib\\site-packages (from tensorflow-intel==2.16.1->Tensorflow) (2.16.2)\n",
      "Requirement already satisfied: keras>=3.0.0 in c:\\users\\dyavadi\\anaconda3\\lib\\site-packages (from tensorflow-intel==2.16.1->Tensorflow) (3.3.3)\n",
      "Requirement already satisfied: tensorflow-io-gcs-filesystem>=0.23.1 in c:\\users\\dyavadi\\anaconda3\\lib\\site-packages (from tensorflow-intel==2.16.1->Tensorflow) (0.31.0)\n",
      "Requirement already satisfied: numpy<2.0.0,>=1.23.5 in c:\\users\\dyavadi\\anaconda3\\lib\\site-packages (from tensorflow-intel==2.16.1->Tensorflow) (1.26.4)\n",
      "Requirement already satisfied: wheel<1.0,>=0.23.0 in c:\\users\\dyavadi\\anaconda3\\lib\\site-packages (from astunparse>=1.6.0->tensorflow-intel==2.16.1->Tensorflow) (0.41.2)\n",
      "Requirement already satisfied: rich in c:\\users\\dyavadi\\anaconda3\\lib\\site-packages (from keras>=3.0.0->tensorflow-intel==2.16.1->Tensorflow) (13.3.5)\n",
      "Requirement already satisfied: namex in c:\\users\\dyavadi\\anaconda3\\lib\\site-packages (from keras>=3.0.0->tensorflow-intel==2.16.1->Tensorflow) (0.0.8)\n",
      "Requirement already satisfied: optree in c:\\users\\dyavadi\\anaconda3\\lib\\site-packages (from keras>=3.0.0->tensorflow-intel==2.16.1->Tensorflow) (0.11.0)\n",
      "Requirement already satisfied: charset-normalizer<4,>=2 in c:\\users\\dyavadi\\anaconda3\\lib\\site-packages (from requests<3,>=2.21.0->tensorflow-intel==2.16.1->Tensorflow) (2.0.4)\n",
      "Requirement already satisfied: idna<4,>=2.5 in c:\\users\\dyavadi\\anaconda3\\lib\\site-packages (from requests<3,>=2.21.0->tensorflow-intel==2.16.1->Tensorflow) (3.4)\n",
      "Requirement already satisfied: urllib3<3,>=1.21.1 in c:\\users\\dyavadi\\anaconda3\\lib\\site-packages (from requests<3,>=2.21.0->tensorflow-intel==2.16.1->Tensorflow) (2.0.7)\n",
      "Requirement already satisfied: certifi>=2017.4.17 in c:\\users\\dyavadi\\anaconda3\\lib\\site-packages (from requests<3,>=2.21.0->tensorflow-intel==2.16.1->Tensorflow) (2024.2.2)\n",
      "Requirement already satisfied: markdown>=2.6.8 in c:\\users\\dyavadi\\anaconda3\\lib\\site-packages (from tensorboard<2.17,>=2.16->tensorflow-intel==2.16.1->Tensorflow) (3.4.1)\n",
      "Requirement already satisfied: tensorboard-data-server<0.8.0,>=0.7.0 in c:\\users\\dyavadi\\anaconda3\\lib\\site-packages (from tensorboard<2.17,>=2.16->tensorflow-intel==2.16.1->Tensorflow) (0.7.2)\n",
      "Requirement already satisfied: werkzeug>=1.0.1 in c:\\users\\dyavadi\\anaconda3\\lib\\site-packages (from tensorboard<2.17,>=2.16->tensorflow-intel==2.16.1->Tensorflow) (2.2.3)\n",
      "Requirement already satisfied: MarkupSafe>=2.1.1 in c:\\users\\dyavadi\\anaconda3\\lib\\site-packages (from werkzeug>=1.0.1->tensorboard<2.17,>=2.16->tensorflow-intel==2.16.1->Tensorflow) (2.1.3)\n",
      "Requirement already satisfied: markdown-it-py<3.0.0,>=2.2.0 in c:\\users\\dyavadi\\anaconda3\\lib\\site-packages (from rich->keras>=3.0.0->tensorflow-intel==2.16.1->Tensorflow) (2.2.0)\n",
      "Requirement already satisfied: pygments<3.0.0,>=2.13.0 in c:\\users\\dyavadi\\anaconda3\\lib\\site-packages (from rich->keras>=3.0.0->tensorflow-intel==2.16.1->Tensorflow) (2.15.1)\n",
      "Requirement already satisfied: mdurl~=0.1 in c:\\users\\dyavadi\\anaconda3\\lib\\site-packages (from markdown-it-py<3.0.0,>=2.2.0->rich->keras>=3.0.0->tensorflow-intel==2.16.1->Tensorflow) (0.1.0)\n"
     ]
    },
    {
     "name": "stderr",
     "output_type": "stream",
     "text": [
      "DEPRECATION: Loading egg at c:\\users\\dyavadi\\anaconda3\\lib\\site-packages\\appdirs-1.4.4-py3.11.egg is deprecated. pip 24.3 will enforce this behaviour change. A possible replacement is to use pip for package installation.. Discussion can be found at https://github.com/pypa/pip/issues/12330\n",
      "DEPRECATION: Loading egg at c:\\users\\dyavadi\\anaconda3\\lib\\site-packages\\fonttools-4.51.0-py3.11-win-amd64.egg is deprecated. pip 24.3 will enforce this behaviour change. A possible replacement is to use pip for package installation.. Discussion can be found at https://github.com/pypa/pip/issues/12330\n",
      "DEPRECATION: Loading egg at c:\\users\\dyavadi\\anaconda3\\lib\\site-packages\\housing_predictor-0.0.15-py3.11.egg is deprecated. pip 24.3 will enforce this behaviour change. A possible replacement is to use pip for package installation.. Discussion can be found at https://github.com/pypa/pip/issues/12330\n"
     ]
    }
   ],
   "source": [
    "!pip install Tensorflow"
   ]
  },
  {
   "cell_type": "code",
   "execution_count": 46,
   "id": "eaa1e0ce-5e03-48f3-9b80-182e0cd95816",
   "metadata": {},
   "outputs": [
    {
     "name": "stdout",
     "output_type": "stream",
     "text": [
      "Collecting dataprep\n",
      "  Using cached dataprep-0.4.1-py3-none-any.whl.metadata (14 kB)\n",
      "Requirement already satisfied: aiohttp<4.0,>=3.6 in c:\\users\\dyavadi\\anaconda3\\lib\\site-packages (from dataprep) (3.9.3)\n",
      "Collecting bokeh<3,>=2 (from dataprep)\n",
      "  Using cached bokeh-2.4.3-py3-none-any.whl.metadata (14 kB)\n",
      "Requirement already satisfied: bottleneck<2.0,>=1.3 in c:\\users\\dyavadi\\anaconda3\\lib\\site-packages (from dataprep) (1.3.7)\n",
      "Collecting dask<3.0,>=2.25 (from dask[array,dataframe,delayed]<3.0,>=2.25->dataprep)\n",
      "  Using cached dask-2.30.0-py3-none-any.whl.metadata (3.4 kB)\n",
      "Collecting flask<2.0.0,>=1.1.4 (from dataprep)\n",
      "  Using cached Flask-1.1.4-py2.py3-none-any.whl.metadata (4.6 kB)\n",
      "Collecting flask_cors<4.0.0,>=3.0.10 (from dataprep)\n",
      "  Using cached Flask_Cors-3.0.10-py2.py3-none-any.whl.metadata (5.4 kB)\n",
      "Requirement already satisfied: ipywidgets<8.0,>=7.5 in c:\\users\\dyavadi\\anaconda3\\lib\\site-packages (from dataprep) (7.6.5)\n",
      "Collecting jinja2<3.0,>=2.11 (from dataprep)\n",
      "  Using cached Jinja2-2.11.3-py2.py3-none-any.whl.metadata (3.5 kB)\n",
      "Collecting jsonpath-ng<2.0,>=1.5 (from dataprep)\n",
      "  Using cached jsonpath_ng-1.6.1-py3-none-any.whl.metadata (18 kB)\n",
      "Collecting levenshtein<0.13.0,>=0.12.0 (from dataprep)\n",
      "  Using cached levenshtein-0.12.0.tar.gz (54 kB)\n",
      "  Preparing metadata (setup.py): started\n",
      "  Preparing metadata (setup.py): finished with status 'done'\n",
      "Collecting metaphone<0.7,>=0.6 (from dataprep)\n",
      "  Using cached Metaphone-0.6-py3-none-any.whl\n",
      "Requirement already satisfied: nltk<4.0,>=3.5 in c:\\users\\dyavadi\\anaconda3\\lib\\site-packages (from dataprep) (3.8.1)\n",
      "Requirement already satisfied: numpy<2,>=1 in c:\\users\\dyavadi\\anaconda3\\lib\\site-packages (from dataprep) (1.26.4)\n",
      "Collecting pandas<2.0,>=1.1 (from dataprep)\n",
      "  Using cached pandas-1.5.3-cp311-cp311-win_amd64.whl.metadata (12 kB)\n",
      "Collecting pydantic<2.0,>=1.6 (from dataprep)\n",
      "  Using cached pydantic-1.10.15-cp311-cp311-win_amd64.whl.metadata (152 kB)\n",
      "Collecting python-stdnum<2.0,>=1.16 (from dataprep)\n",
      "  Using cached python_stdnum-1.20-py2.py3-none-any.whl.metadata (18 kB)\n",
      "Collecting regex<2021.0.0,>=2020.10.15 (from dataprep)\n",
      "  Using cached regex-2020.11.13.tar.gz (694 kB)\n",
      "  Preparing metadata (setup.py): started\n",
      "  Preparing metadata (setup.py): finished with status 'done'\n",
      "Requirement already satisfied: scipy<2,>=1 in c:\\users\\dyavadi\\anaconda3\\lib\\site-packages (from dataprep) (1.11.4)\n",
      "Requirement already satisfied: tqdm<5.0,>=4.48 in c:\\users\\dyavadi\\anaconda3\\lib\\site-packages (from dataprep) (4.65.0)\n",
      "Collecting usaddress<0.6.0,>=0.5.10 (from dataprep)\n",
      "  Using cached usaddress-0.5.10-py2.py3-none-any.whl.metadata (1.5 kB)\n",
      "Collecting varname<0.9.0,>=0.8.1 (from dataprep)\n",
      "  Using cached varname-0.8.3-py3-none-any.whl.metadata (11 kB)\n",
      "Requirement already satisfied: wordcloud<2.0,>=1.8 in c:\\users\\dyavadi\\anaconda3\\lib\\site-packages (from dataprep) (1.9.3)\n",
      "Requirement already satisfied: aiosignal>=1.1.2 in c:\\users\\dyavadi\\anaconda3\\lib\\site-packages (from aiohttp<4.0,>=3.6->dataprep) (1.2.0)\n",
      "Requirement already satisfied: attrs>=17.3.0 in c:\\users\\dyavadi\\anaconda3\\lib\\site-packages (from aiohttp<4.0,>=3.6->dataprep) (23.1.0)\n",
      "Requirement already satisfied: frozenlist>=1.1.1 in c:\\users\\dyavadi\\anaconda3\\lib\\site-packages (from aiohttp<4.0,>=3.6->dataprep) (1.4.0)\n",
      "Requirement already satisfied: multidict<7.0,>=4.5 in c:\\users\\dyavadi\\anaconda3\\lib\\site-packages (from aiohttp<4.0,>=3.6->dataprep) (6.0.4)\n",
      "Requirement already satisfied: yarl<2.0,>=1.0 in c:\\users\\dyavadi\\anaconda3\\lib\\site-packages (from aiohttp<4.0,>=3.6->dataprep) (1.9.3)\n",
      "Requirement already satisfied: packaging>=16.8 in c:\\users\\dyavadi\\anaconda3\\lib\\site-packages (from bokeh<3,>=2->dataprep) (23.1)\n",
      "Requirement already satisfied: pillow>=7.1.0 in c:\\users\\dyavadi\\anaconda3\\lib\\site-packages (from bokeh<3,>=2->dataprep) (10.2.0)\n",
      "Requirement already satisfied: PyYAML>=3.10 in c:\\users\\dyavadi\\anaconda3\\lib\\site-packages (from bokeh<3,>=2->dataprep) (6.0.1)\n",
      "Requirement already satisfied: tornado>=5.1 in c:\\users\\dyavadi\\anaconda3\\lib\\site-packages (from bokeh<3,>=2->dataprep) (6.3.3)\n",
      "Requirement already satisfied: typing-extensions>=3.10.0 in c:\\users\\dyavadi\\anaconda3\\lib\\site-packages (from bokeh<3,>=2->dataprep) (4.11.0)\n",
      "Requirement already satisfied: toolz>=0.8.2 in c:\\users\\dyavadi\\anaconda3\\lib\\site-packages (from dask[array,dataframe,delayed]<3.0,>=2.25->dataprep) (0.12.0)\n",
      "Requirement already satisfied: partd>=0.3.10 in c:\\users\\dyavadi\\anaconda3\\lib\\site-packages (from dask[array,dataframe,delayed]<3.0,>=2.25->dataprep) (1.4.1)\n",
      "Requirement already satisfied: fsspec>=0.6.0 in c:\\users\\dyavadi\\anaconda3\\lib\\site-packages (from dask[array,dataframe,delayed]<3.0,>=2.25->dataprep) (2024.3.1)\n",
      "Requirement already satisfied: cloudpickle>=0.2.2 in c:\\users\\dyavadi\\anaconda3\\lib\\site-packages (from dask[array,dataframe,delayed]<3.0,>=2.25->dataprep) (2.2.1)\n",
      "Collecting Werkzeug<2.0,>=0.15 (from flask<2.0.0,>=1.1.4->dataprep)\n",
      "  Using cached Werkzeug-1.0.1-py2.py3-none-any.whl.metadata (4.7 kB)\n",
      "Collecting itsdangerous<2.0,>=0.24 (from flask<2.0.0,>=1.1.4->dataprep)\n",
      "  Using cached itsdangerous-1.1.0-py2.py3-none-any.whl.metadata (3.1 kB)\n",
      "Collecting click<8.0,>=5.1 (from flask<2.0.0,>=1.1.4->dataprep)\n",
      "  Using cached click-7.1.2-py2.py3-none-any.whl.metadata (2.9 kB)\n",
      "Requirement already satisfied: Six in c:\\users\\dyavadi\\anaconda3\\lib\\site-packages (from flask_cors<4.0.0,>=3.0.10->dataprep) (1.16.0)\n",
      "Requirement already satisfied: ipykernel>=4.5.1 in c:\\users\\dyavadi\\anaconda3\\lib\\site-packages (from ipywidgets<8.0,>=7.5->dataprep) (6.28.0)\n",
      "Requirement already satisfied: ipython-genutils~=0.2.0 in c:\\users\\dyavadi\\anaconda3\\lib\\site-packages (from ipywidgets<8.0,>=7.5->dataprep) (0.2.0)\n",
      "Requirement already satisfied: traitlets>=4.3.1 in c:\\users\\dyavadi\\anaconda3\\lib\\site-packages (from ipywidgets<8.0,>=7.5->dataprep) (5.7.1)\n",
      "Requirement already satisfied: nbformat>=4.2.0 in c:\\users\\dyavadi\\anaconda3\\lib\\site-packages (from ipywidgets<8.0,>=7.5->dataprep) (5.9.2)\n",
      "Requirement already satisfied: widgetsnbextension~=3.5.0 in c:\\users\\dyavadi\\anaconda3\\lib\\site-packages (from ipywidgets<8.0,>=7.5->dataprep) (3.5.2)\n",
      "Requirement already satisfied: ipython>=4.0.0 in c:\\users\\dyavadi\\anaconda3\\lib\\site-packages (from ipywidgets<8.0,>=7.5->dataprep) (8.20.0)\n",
      "Requirement already satisfied: jupyterlab-widgets>=1.0.0 in c:\\users\\dyavadi\\anaconda3\\lib\\site-packages (from ipywidgets<8.0,>=7.5->dataprep) (3.0.9)\n",
      "Requirement already satisfied: MarkupSafe>=0.23 in c:\\users\\dyavadi\\anaconda3\\lib\\site-packages (from jinja2<3.0,>=2.11->dataprep) (2.1.3)\n",
      "Requirement already satisfied: ply in c:\\users\\dyavadi\\anaconda3\\lib\\site-packages (from jsonpath-ng<2.0,>=1.5->dataprep) (3.11)\n",
      "Requirement already satisfied: setuptools in c:\\users\\dyavadi\\anaconda3\\lib\\site-packages (from levenshtein<0.13.0,>=0.12.0->dataprep) (68.2.2)\n",
      "Requirement already satisfied: joblib in c:\\users\\dyavadi\\anaconda3\\lib\\site-packages (from nltk<4.0,>=3.5->dataprep) (1.1.1)\n",
      "INFO: pip is looking at multiple versions of nltk to determine which version is compatible with other requirements. This could take a while.\n",
      "Collecting nltk<4.0,>=3.5 (from dataprep)\n",
      "  Using cached nltk-3.8-py3-none-any.whl.metadata (2.8 kB)\n",
      "  Using cached nltk-3.7-py3-none-any.whl.metadata (2.8 kB)\n",
      "  Using cached nltk-3.6.7-py3-none-any.whl.metadata (2.8 kB)\n",
      "  Using cached nltk-3.6.6-py3-none-any.whl.metadata (2.9 kB)\n",
      "  Using cached nltk-3.6.5-py3-none-any.whl.metadata (3.0 kB)\n",
      "  Using cached nltk-3.6.3-py3-none-any.whl.metadata (3.0 kB)\n",
      "Requirement already satisfied: python-dateutil>=2.8.1 in c:\\users\\dyavadi\\anaconda3\\lib\\site-packages (from pandas<2.0,>=1.1->dataprep) (2.8.2)\n",
      "Requirement already satisfied: pytz>=2020.1 in c:\\users\\dyavadi\\anaconda3\\lib\\site-packages (from pandas<2.0,>=1.1->dataprep) (2023.3.post1)\n",
      "Requirement already satisfied: colorama in c:\\users\\dyavadi\\anaconda3\\lib\\site-packages (from tqdm<5.0,>=4.48->dataprep) (0.4.6)\n",
      "Requirement already satisfied: future>=0.14 in c:\\users\\dyavadi\\anaconda3\\lib\\site-packages (from usaddress<0.6.0,>=0.5.10->dataprep) (0.18.3)\n",
      "Collecting probableparsing (from usaddress<0.6.0,>=0.5.10->dataprep)\n",
      "  Using cached probableparsing-0.0.1-py2.py3-none-any.whl.metadata (908 bytes)\n",
      "Collecting python-crfsuite>=0.7 (from usaddress<0.6.0,>=0.5.10->dataprep)\n",
      "  Using cached python_crfsuite-0.9.10-cp311-cp311-win_amd64.whl.metadata (4.3 kB)\n",
      "Requirement already satisfied: asttokens<3.0.0,>=2.0.0 in c:\\users\\dyavadi\\anaconda3\\lib\\site-packages (from varname<0.9.0,>=0.8.1->dataprep) (2.0.5)\n",
      "Requirement already satisfied: executing<0.9.0,>=0.8.3 in c:\\users\\dyavadi\\anaconda3\\lib\\site-packages (from varname<0.9.0,>=0.8.1->dataprep) (0.8.3)\n",
      "Requirement already satisfied: pure_eval<1.0.0 in c:\\users\\dyavadi\\anaconda3\\lib\\site-packages (from varname<0.9.0,>=0.8.1->dataprep) (0.2.2)\n",
      "Requirement already satisfied: matplotlib in c:\\users\\dyavadi\\anaconda3\\lib\\site-packages (from wordcloud<2.0,>=1.8->dataprep) (3.8.4)\n",
      "Requirement already satisfied: comm>=0.1.1 in c:\\users\\dyavadi\\anaconda3\\lib\\site-packages (from ipykernel>=4.5.1->ipywidgets<8.0,>=7.5->dataprep) (0.1.2)\n",
      "Requirement already satisfied: debugpy>=1.6.5 in c:\\users\\dyavadi\\anaconda3\\lib\\site-packages (from ipykernel>=4.5.1->ipywidgets<8.0,>=7.5->dataprep) (1.6.7)\n",
      "Requirement already satisfied: jupyter-client>=6.1.12 in c:\\users\\dyavadi\\anaconda3\\lib\\site-packages (from ipykernel>=4.5.1->ipywidgets<8.0,>=7.5->dataprep) (8.6.0)\n",
      "Requirement already satisfied: jupyter-core!=5.0.*,>=4.12 in c:\\users\\dyavadi\\anaconda3\\lib\\site-packages (from ipykernel>=4.5.1->ipywidgets<8.0,>=7.5->dataprep) (5.5.0)\n",
      "Requirement already satisfied: matplotlib-inline>=0.1 in c:\\users\\dyavadi\\anaconda3\\lib\\site-packages (from ipykernel>=4.5.1->ipywidgets<8.0,>=7.5->dataprep) (0.1.6)\n",
      "Requirement already satisfied: nest-asyncio in c:\\users\\dyavadi\\anaconda3\\lib\\site-packages (from ipykernel>=4.5.1->ipywidgets<8.0,>=7.5->dataprep) (1.6.0)\n",
      "Requirement already satisfied: psutil in c:\\users\\dyavadi\\anaconda3\\lib\\site-packages (from ipykernel>=4.5.1->ipywidgets<8.0,>=7.5->dataprep) (5.9.0)\n",
      "Requirement already satisfied: pyzmq>=24 in c:\\users\\dyavadi\\anaconda3\\lib\\site-packages (from ipykernel>=4.5.1->ipywidgets<8.0,>=7.5->dataprep) (25.1.2)\n",
      "Requirement already satisfied: decorator in c:\\users\\dyavadi\\anaconda3\\lib\\site-packages (from ipython>=4.0.0->ipywidgets<8.0,>=7.5->dataprep) (5.1.1)\n",
      "Requirement already satisfied: jedi>=0.16 in c:\\users\\dyavadi\\anaconda3\\lib\\site-packages (from ipython>=4.0.0->ipywidgets<8.0,>=7.5->dataprep) (0.18.1)\n",
      "Requirement already satisfied: prompt-toolkit<3.1.0,>=3.0.41 in c:\\users\\dyavadi\\anaconda3\\lib\\site-packages (from ipython>=4.0.0->ipywidgets<8.0,>=7.5->dataprep) (3.0.43)\n",
      "Requirement already satisfied: pygments>=2.4.0 in c:\\users\\dyavadi\\anaconda3\\lib\\site-packages (from ipython>=4.0.0->ipywidgets<8.0,>=7.5->dataprep) (2.15.1)\n",
      "Requirement already satisfied: stack-data in c:\\users\\dyavadi\\anaconda3\\lib\\site-packages (from ipython>=4.0.0->ipywidgets<8.0,>=7.5->dataprep) (0.2.0)\n",
      "Requirement already satisfied: fastjsonschema in c:\\users\\dyavadi\\anaconda3\\lib\\site-packages (from nbformat>=4.2.0->ipywidgets<8.0,>=7.5->dataprep) (2.16.2)\n",
      "Requirement already satisfied: jsonschema>=2.6 in c:\\users\\dyavadi\\anaconda3\\lib\\site-packages (from nbformat>=4.2.0->ipywidgets<8.0,>=7.5->dataprep) (4.19.2)\n",
      "Requirement already satisfied: locket in c:\\users\\dyavadi\\anaconda3\\lib\\site-packages (from partd>=0.3.10->dask[array,dataframe,delayed]<3.0,>=2.25->dataprep) (1.0.0)\n",
      "Requirement already satisfied: notebook>=4.4.1 in c:\\users\\dyavadi\\anaconda3\\lib\\site-packages (from widgetsnbextension~=3.5.0->ipywidgets<8.0,>=7.5->dataprep) (7.0.8)\n",
      "Requirement already satisfied: idna>=2.0 in c:\\users\\dyavadi\\anaconda3\\lib\\site-packages (from yarl<2.0,>=1.0->aiohttp<4.0,>=3.6->dataprep) (3.4)\n",
      "Requirement already satisfied: contourpy>=1.0.1 in c:\\users\\dyavadi\\anaconda3\\lib\\site-packages (from matplotlib->wordcloud<2.0,>=1.8->dataprep) (1.2.0)\n",
      "Requirement already satisfied: cycler>=0.10 in c:\\users\\dyavadi\\anaconda3\\lib\\site-packages (from matplotlib->wordcloud<2.0,>=1.8->dataprep) (0.11.0)\n",
      "Requirement already satisfied: fonttools>=4.22.0 in c:\\users\\dyavadi\\anaconda3\\lib\\site-packages\\fonttools-4.51.0-py3.11-win-amd64.egg (from matplotlib->wordcloud<2.0,>=1.8->dataprep) (4.51.0)\n",
      "Requirement already satisfied: kiwisolver>=1.3.1 in c:\\users\\dyavadi\\anaconda3\\lib\\site-packages (from matplotlib->wordcloud<2.0,>=1.8->dataprep) (1.4.4)\n",
      "Requirement already satisfied: pyparsing>=2.3.1 in c:\\users\\dyavadi\\anaconda3\\lib\\site-packages (from matplotlib->wordcloud<2.0,>=1.8->dataprep) (3.0.9)\n",
      "Requirement already satisfied: parso<0.9.0,>=0.8.0 in c:\\users\\dyavadi\\anaconda3\\lib\\site-packages (from jedi>=0.16->ipython>=4.0.0->ipywidgets<8.0,>=7.5->dataprep) (0.8.3)\n",
      "Requirement already satisfied: jsonschema-specifications>=2023.03.6 in c:\\users\\dyavadi\\anaconda3\\lib\\site-packages (from jsonschema>=2.6->nbformat>=4.2.0->ipywidgets<8.0,>=7.5->dataprep) (2023.7.1)\n",
      "Requirement already satisfied: referencing>=0.28.4 in c:\\users\\dyavadi\\anaconda3\\lib\\site-packages (from jsonschema>=2.6->nbformat>=4.2.0->ipywidgets<8.0,>=7.5->dataprep) (0.30.2)\n",
      "Requirement already satisfied: rpds-py>=0.7.1 in c:\\users\\dyavadi\\anaconda3\\lib\\site-packages (from jsonschema>=2.6->nbformat>=4.2.0->ipywidgets<8.0,>=7.5->dataprep) (0.10.6)\n",
      "Requirement already satisfied: platformdirs>=2.5 in c:\\users\\dyavadi\\anaconda3\\lib\\site-packages (from jupyter-core!=5.0.*,>=4.12->ipykernel>=4.5.1->ipywidgets<8.0,>=7.5->dataprep) (3.10.0)\n",
      "Requirement already satisfied: pywin32>=300 in c:\\users\\dyavadi\\anaconda3\\lib\\site-packages (from jupyter-core!=5.0.*,>=4.12->ipykernel>=4.5.1->ipywidgets<8.0,>=7.5->dataprep) (305.1)\n",
      "Requirement already satisfied: jupyter-server<3,>=2.4.0 in c:\\users\\dyavadi\\anaconda3\\lib\\site-packages (from notebook>=4.4.1->widgetsnbextension~=3.5.0->ipywidgets<8.0,>=7.5->dataprep) (2.10.0)\n",
      "Requirement already satisfied: jupyterlab-server<3,>=2.22.1 in c:\\users\\dyavadi\\anaconda3\\lib\\site-packages (from notebook>=4.4.1->widgetsnbextension~=3.5.0->ipywidgets<8.0,>=7.5->dataprep) (2.27.1)\n",
      "Collecting jupyterlab<4.1,>=4.0.2 (from notebook>=4.4.1->widgetsnbextension~=3.5.0->ipywidgets<8.0,>=7.5->dataprep)\n",
      "  Using cached jupyterlab-4.0.13-py3-none-any.whl.metadata (15 kB)\n",
      "Requirement already satisfied: notebook-shim<0.3,>=0.2 in c:\\users\\dyavadi\\anaconda3\\lib\\site-packages (from notebook>=4.4.1->widgetsnbextension~=3.5.0->ipywidgets<8.0,>=7.5->dataprep) (0.2.3)\n",
      "Requirement already satisfied: wcwidth in c:\\users\\dyavadi\\anaconda3\\lib\\site-packages (from prompt-toolkit<3.1.0,>=3.0.41->ipython>=4.0.0->ipywidgets<8.0,>=7.5->dataprep) (0.2.5)\n",
      "Requirement already satisfied: anyio>=3.1.0 in c:\\users\\dyavadi\\anaconda3\\lib\\site-packages (from jupyter-server<3,>=2.4.0->notebook>=4.4.1->widgetsnbextension~=3.5.0->ipywidgets<8.0,>=7.5->dataprep) (4.2.0)\n",
      "Requirement already satisfied: argon2-cffi in c:\\users\\dyavadi\\anaconda3\\lib\\site-packages (from jupyter-server<3,>=2.4.0->notebook>=4.4.1->widgetsnbextension~=3.5.0->ipywidgets<8.0,>=7.5->dataprep) (21.3.0)\n",
      "Requirement already satisfied: jupyter-events>=0.6.0 in c:\\users\\dyavadi\\anaconda3\\lib\\site-packages (from jupyter-server<3,>=2.4.0->notebook>=4.4.1->widgetsnbextension~=3.5.0->ipywidgets<8.0,>=7.5->dataprep) (0.8.0)\n",
      "Requirement already satisfied: jupyter-server-terminals in c:\\users\\dyavadi\\anaconda3\\lib\\site-packages (from jupyter-server<3,>=2.4.0->notebook>=4.4.1->widgetsnbextension~=3.5.0->ipywidgets<8.0,>=7.5->dataprep) (0.4.4)\n",
      "Requirement already satisfied: nbconvert>=6.4.4 in c:\\users\\dyavadi\\anaconda3\\lib\\site-packages (from jupyter-server<3,>=2.4.0->notebook>=4.4.1->widgetsnbextension~=3.5.0->ipywidgets<8.0,>=7.5->dataprep) (7.10.0)\n",
      "Requirement already satisfied: overrides in c:\\users\\dyavadi\\anaconda3\\lib\\site-packages (from jupyter-server<3,>=2.4.0->notebook>=4.4.1->widgetsnbextension~=3.5.0->ipywidgets<8.0,>=7.5->dataprep) (7.4.0)\n",
      "Requirement already satisfied: prometheus-client in c:\\users\\dyavadi\\anaconda3\\lib\\site-packages (from jupyter-server<3,>=2.4.0->notebook>=4.4.1->widgetsnbextension~=3.5.0->ipywidgets<8.0,>=7.5->dataprep) (0.14.1)\n",
      "Requirement already satisfied: pywinpty in c:\\users\\dyavadi\\anaconda3\\lib\\site-packages (from jupyter-server<3,>=2.4.0->notebook>=4.4.1->widgetsnbextension~=3.5.0->ipywidgets<8.0,>=7.5->dataprep) (2.0.10)\n",
      "Requirement already satisfied: send2trash>=1.8.2 in c:\\users\\dyavadi\\anaconda3\\lib\\site-packages (from jupyter-server<3,>=2.4.0->notebook>=4.4.1->widgetsnbextension~=3.5.0->ipywidgets<8.0,>=7.5->dataprep) (1.8.2)\n",
      "Requirement already satisfied: terminado>=0.8.3 in c:\\users\\dyavadi\\anaconda3\\lib\\site-packages (from jupyter-server<3,>=2.4.0->notebook>=4.4.1->widgetsnbextension~=3.5.0->ipywidgets<8.0,>=7.5->dataprep) (0.17.1)\n",
      "Requirement already satisfied: websocket-client in c:\\users\\dyavadi\\anaconda3\\lib\\site-packages (from jupyter-server<3,>=2.4.0->notebook>=4.4.1->widgetsnbextension~=3.5.0->ipywidgets<8.0,>=7.5->dataprep) (0.58.0)\n",
      "Requirement already satisfied: async-lru>=1.0.0 in c:\\users\\dyavadi\\anaconda3\\lib\\site-packages (from jupyterlab<4.1,>=4.0.2->notebook>=4.4.1->widgetsnbextension~=3.5.0->ipywidgets<8.0,>=7.5->dataprep) (2.0.4)\n",
      "INFO: pip is looking at multiple versions of jupyterlab to determine which version is compatible with other requirements. This could take a while.\n",
      "  Using cached jupyterlab-4.0.12-py3-none-any.whl.metadata (15 kB)\n",
      "  Using cached jupyterlab-4.0.11-py3-none-any.whl.metadata (15 kB)\n",
      "  Using cached jupyterlab-4.0.10-py3-none-any.whl.metadata (15 kB)\n",
      "  Using cached jupyterlab-4.0.9-py3-none-any.whl.metadata (15 kB)\n",
      "  Using cached jupyterlab-4.0.8-py3-none-any.whl.metadata (15 kB)\n",
      "  Using cached jupyterlab-4.0.7-py3-none-any.whl.metadata (15 kB)\n",
      "  Using cached jupyterlab-4.0.6-py3-none-any.whl.metadata (15 kB)\n",
      "INFO: pip is still looking at multiple versions of jupyterlab to determine which version is compatible with other requirements. This could take a while.\n",
      "  Using cached jupyterlab-4.0.5-py3-none-any.whl.metadata (15 kB)\n",
      "  Using cached jupyterlab-4.0.4-py3-none-any.whl.metadata (15 kB)\n",
      "  Using cached jupyterlab-4.0.3-py3-none-any.whl.metadata (15 kB)\n",
      "  Using cached jupyterlab-4.0.2-py3-none-any.whl.metadata (15 kB)\n",
      "Collecting jupyter-server<3,>=2.4.0 (from notebook>=4.4.1->widgetsnbextension~=3.5.0->ipywidgets<8.0,>=7.5->dataprep)\n",
      "  Using cached jupyter_server-2.14.0-py3-none-any.whl.metadata (8.4 kB)\n",
      "INFO: pip is looking at multiple versions of jupyter-server to determine which version is compatible with other requirements. This could take a while.\n",
      "  Using cached jupyter_server-2.13.0-py3-none-any.whl.metadata (8.4 kB)\n",
      "Collecting jupyter-events>=0.9.0 (from jupyter-server<3,>=2.4.0->notebook>=4.4.1->widgetsnbextension~=3.5.0->ipywidgets<8.0,>=7.5->dataprep)\n",
      "  Using cached jupyter_events-0.10.0-py3-none-any.whl.metadata (5.9 kB)\n",
      "INFO: This is taking longer than usual. You might need to provide the dependency resolver with stricter constraints to reduce runtime. See https://pip.pypa.io/warnings/backtracking for guidance. If you want to abort this run, press Ctrl + C.\n",
      "Collecting jupyter-server<3,>=2.4.0 (from notebook>=4.4.1->widgetsnbextension~=3.5.0->ipywidgets<8.0,>=7.5->dataprep)\n",
      "  Using cached jupyter_server-2.12.5-py3-none-any.whl.metadata (8.4 kB)\n",
      "  Using cached jupyter_server-2.12.4-py3-none-any.whl.metadata (8.4 kB)\n",
      "  Using cached jupyter_server-2.12.3-py3-none-any.whl.metadata (8.4 kB)\n",
      "  Using cached jupyter_server-2.12.2-py3-none-any.whl.metadata (8.4 kB)\n",
      "  Using cached jupyter_server-2.12.1-py3-none-any.whl.metadata (8.4 kB)\n",
      "  Using cached jupyter_server-2.12.0-py3-none-any.whl.metadata (8.4 kB)\n",
      "INFO: pip is still looking at multiple versions of jupyter-server to determine which version is compatible with other requirements. This could take a while.\n",
      "  Using cached jupyter_server-2.11.2-py3-none-any.whl.metadata (8.4 kB)\n",
      "  Using cached jupyter_server-2.11.1-py3-none-any.whl.metadata (8.4 kB)\n",
      "  Using cached jupyter_server-2.10.1-py3-none-any.whl.metadata (8.4 kB)\n",
      "  Using cached jupyter_server-2.10.0-py3-none-any.whl.metadata (8.4 kB)\n",
      "  Using cached jupyter_server-2.9.1-py3-none-any.whl.metadata (8.6 kB)\n",
      "INFO: This is taking longer than usual. You might need to provide the dependency resolver with stricter constraints to reduce runtime. See https://pip.pypa.io/warnings/backtracking for guidance. If you want to abort this run, press Ctrl + C.\n",
      "  Using cached jupyter_server-2.9.0-py3-none-any.whl.metadata (8.6 kB)\n",
      "  Using cached jupyter_server-2.8.0-py3-none-any.whl.metadata (8.6 kB)\n",
      "  Using cached jupyter_server-2.7.3-py3-none-any.whl.metadata (8.6 kB)\n",
      "  Using cached jupyter_server-2.7.2-py3-none-any.whl.metadata (8.6 kB)\n",
      "  Using cached jupyter_server-2.7.1-py3-none-any.whl.metadata (8.6 kB)\n",
      "  Using cached jupyter_server-2.7.0-py3-none-any.whl.metadata (8.6 kB)\n",
      "  Using cached jupyter_server-2.6.0-py3-none-any.whl.metadata (8.5 kB)\n",
      "  Using cached jupyter_server-2.5.0-py3-none-any.whl.metadata (8.7 kB)\n",
      "  Using cached jupyter_server-2.4.0-py3-none-any.whl.metadata (8.7 kB)\n",
      "Collecting notebook>=4.4.1 (from widgetsnbextension~=3.5.0->ipywidgets<8.0,>=7.5->dataprep)\n",
      "  Using cached notebook-7.1.3-py3-none-any.whl.metadata (10 kB)\n",
      "Collecting jupyterlab<4.2,>=4.1.1 (from notebook>=4.4.1->widgetsnbextension~=3.5.0->ipywidgets<8.0,>=7.5->dataprep)\n",
      "  Using cached jupyterlab-4.1.8-py3-none-any.whl.metadata (16 kB)\n",
      "Requirement already satisfied: httpx>=0.25.0 in c:\\users\\dyavadi\\anaconda3\\lib\\site-packages (from jupyterlab<4.2,>=4.1.1->notebook>=4.4.1->widgetsnbextension~=3.5.0->ipywidgets<8.0,>=7.5->dataprep) (0.27.0)\n",
      "  Using cached jupyterlab-4.1.7-py3-none-any.whl.metadata (16 kB)\n",
      "  Using cached jupyterlab-4.1.6-py3-none-any.whl.metadata (16 kB)\n",
      "  Using cached jupyterlab-4.1.5-py3-none-any.whl.metadata (15 kB)\n",
      "  Using cached jupyterlab-4.1.4-py3-none-any.whl.metadata (15 kB)\n",
      "  Using cached jupyterlab-4.1.3-py3-none-any.whl.metadata (15 kB)\n",
      "  Using cached jupyterlab-4.1.2-py3-none-any.whl.metadata (15 kB)\n",
      "  Using cached jupyterlab-4.1.1-py3-none-any.whl.metadata (15 kB)\n",
      "Collecting notebook>=4.4.1 (from widgetsnbextension~=3.5.0->ipywidgets<8.0,>=7.5->dataprep)\n",
      "  Using cached notebook-7.1.2-py3-none-any.whl.metadata (10 kB)\n",
      "  Using cached notebook-7.1.1-py3-none-any.whl.metadata (10 kB)\n",
      "  Using cached notebook-7.1.0-py3-none-any.whl.metadata (10 kB)\n",
      "  Using cached notebook-7.0.8-py3-none-any.whl.metadata (10 kB)\n",
      "  Using cached notebook-7.0.7-py3-none-any.whl.metadata (10 kB)\n",
      "Requirement already satisfied: jupyterlab<5,>=4.0.2 in c:\\users\\dyavadi\\anaconda3\\lib\\site-packages (from notebook>=4.4.1->widgetsnbextension~=3.5.0->ipywidgets<8.0,>=7.5->dataprep) (4.2.0)\n",
      "Collecting jupyterlab<5,>=4.0.2 (from notebook>=4.4.1->widgetsnbextension~=3.5.0->ipywidgets<8.0,>=7.5->dataprep)\n",
      "  Using cached jupyterlab-4.1.0-py3-none-any.whl.metadata (15 kB)\n",
      "Collecting notebook>=4.4.1 (from widgetsnbextension~=3.5.0->ipywidgets<8.0,>=7.5->dataprep)\n",
      "  Using cached notebook-7.0.6-py3-none-any.whl.metadata (10 kB)\n",
      "  Using cached notebook-7.0.5-py3-none-any.whl.metadata (10 kB)\n",
      "  Using cached notebook-7.0.4-py3-none-any.whl.metadata (10 kB)\n",
      "  Using cached notebook-7.0.3-py3-none-any.whl.metadata (10 kB)\n",
      "  Using cached notebook-7.0.2-py3-none-any.whl.metadata (10 kB)\n",
      "  Using cached notebook-7.0.1-py3-none-any.whl.metadata (10 kB)\n",
      "  Using cached notebook-7.0.0-py3-none-any.whl.metadata (10 kB)\n",
      "  Using cached notebook-6.5.7-py3-none-any.whl.metadata (2.5 kB)\n",
      "Collecting jupyter-client>=6.1.12 (from ipykernel>=4.5.1->ipywidgets<8.0,>=7.5->dataprep)\n",
      "  Using cached jupyter_client-7.4.9-py3-none-any.whl.metadata (8.5 kB)\n",
      "Collecting nbclassic>=0.4.7 (from notebook>=4.4.1->widgetsnbextension~=3.5.0->ipywidgets<8.0,>=7.5->dataprep)\n",
      "  Using cached nbclassic-1.0.0-py3-none-any.whl.metadata (4.0 kB)\n",
      "Requirement already satisfied: entrypoints in c:\\users\\dyavadi\\anaconda3\\lib\\site-packages (from jupyter-client>=6.1.12->ipykernel>=4.5.1->ipywidgets<8.0,>=7.5->dataprep) (0.4)\n",
      "Requirement already satisfied: beautifulsoup4 in c:\\users\\dyavadi\\anaconda3\\lib\\site-packages (from nbconvert>=6.4.4->jupyter-server<3,>=2.4.0->notebook>=4.4.1->widgetsnbextension~=3.5.0->ipywidgets<8.0,>=7.5->dataprep) (4.12.2)\n",
      "Requirement already satisfied: bleach!=5.0.0 in c:\\users\\dyavadi\\anaconda3\\lib\\site-packages (from nbconvert>=6.4.4->jupyter-server<3,>=2.4.0->notebook>=4.4.1->widgetsnbextension~=3.5.0->ipywidgets<8.0,>=7.5->dataprep) (4.1.0)\n",
      "Requirement already satisfied: defusedxml in c:\\users\\dyavadi\\anaconda3\\lib\\site-packages (from nbconvert>=6.4.4->jupyter-server<3,>=2.4.0->notebook>=4.4.1->widgetsnbextension~=3.5.0->ipywidgets<8.0,>=7.5->dataprep) (0.7.1)\n",
      "INFO: pip is looking at multiple versions of nbconvert to determine which version is compatible with other requirements. This could take a while.\n",
      "Collecting nbconvert>=5 (from notebook>=4.4.1->widgetsnbextension~=3.5.0->ipywidgets<8.0,>=7.5->dataprep)\n",
      "  Using cached nbconvert-7.16.4-py3-none-any.whl.metadata (8.5 kB)\n",
      "  Using cached nbconvert-7.16.3-py3-none-any.whl.metadata (8.2 kB)\n",
      "  Using cached nbconvert-7.16.2-py3-none-any.whl.metadata (8.0 kB)\n",
      "  Using cached nbconvert-7.16.1-py3-none-any.whl.metadata (8.0 kB)\n",
      "  Using cached nbconvert-7.16.0-py3-none-any.whl.metadata (7.7 kB)\n",
      "  Using cached nbconvert-7.15.0-py3-none-any.whl.metadata (7.7 kB)\n",
      "  Using cached nbconvert-7.14.2-py3-none-any.whl.metadata (7.7 kB)\n",
      "INFO: pip is still looking at multiple versions of nbconvert to determine which version is compatible with other requirements. This could take a while.\n",
      "  Using cached nbconvert-7.14.1-py3-none-any.whl.metadata (7.7 kB)\n",
      "  Using cached nbconvert-7.14.0-py3-none-any.whl.metadata (7.7 kB)\n",
      "  Using cached nbconvert-7.13.1-py3-none-any.whl.metadata (7.7 kB)\n",
      "  Using cached nbconvert-7.13.0-py3-none-any.whl.metadata (7.7 kB)\n",
      "  Using cached nbconvert-7.12.0-py3-none-any.whl.metadata (7.7 kB)\n",
      "INFO: This is taking longer than usual. You might need to provide the dependency resolver with stricter constraints to reduce runtime. See https://pip.pypa.io/warnings/backtracking for guidance. If you want to abort this run, press Ctrl + C.\n",
      "  Using cached nbconvert-7.11.0-py3-none-any.whl.metadata (7.7 kB)\n",
      "  Using cached nbconvert-7.9.2-py3-none-any.whl.metadata (7.9 kB)\n",
      "  Using cached nbconvert-7.9.1-py3-none-any.whl.metadata (7.9 kB)\n",
      "  Using cached nbconvert-7.9.0-py3-none-any.whl.metadata (7.9 kB)\n",
      "  Using cached nbconvert-7.8.0-py3-none-any.whl.metadata (8.0 kB)\n",
      "  Using cached nbconvert-7.7.4-py3-none-any.whl.metadata (8.0 kB)\n",
      "  Using cached nbconvert-7.7.3-py3-none-any.whl.metadata (8.0 kB)\n",
      "  Using cached nbconvert-7.7.2-py3-none-any.whl.metadata (8.0 kB)\n",
      "  Using cached nbconvert-7.7.1-py3-none-any.whl.metadata (8.0 kB)\n",
      "  Using cached nbconvert-7.7.0-py3-none-any.whl.metadata (8.0 kB)\n",
      "  Using cached nbconvert-7.6.0-py3-none-any.whl.metadata (7.9 kB)\n",
      "  Using cached nbconvert-7.5.0-py3-none-any.whl.metadata (7.9 kB)\n",
      "  Using cached nbconvert-7.4.0-py3-none-any.whl.metadata (7.9 kB)\n",
      "  Using cached nbconvert-7.3.1-py3-none-any.whl.metadata (8.1 kB)\n",
      "  Using cached nbconvert-7.3.0-py3-none-any.whl.metadata (8.1 kB)\n",
      "  Using cached nbconvert-7.2.10-py3-none-any.whl.metadata (8.0 kB)\n",
      "  Using cached nbconvert-7.2.9-py3-none-any.whl.metadata (8.3 kB)\n",
      "  Using cached nbconvert-7.2.8-py3-none-any.whl.metadata (8.3 kB)\n",
      "  Using cached nbconvert-7.2.7-py3-none-any.whl.metadata (8.3 kB)\n",
      "  Using cached nbconvert-7.2.6-py3-none-any.whl.metadata (8.3 kB)\n",
      "  Using cached nbconvert-7.2.5-py3-none-any.whl.metadata (9.1 kB)\n",
      "  Using cached nbconvert-7.2.4-py3-none-any.whl.metadata (9.1 kB)\n",
      "  Using cached nbconvert-7.2.3-py3-none-any.whl.metadata (9.1 kB)\n",
      "  Using cached nbconvert-7.2.2-py3-none-any.whl.metadata (9.1 kB)\n",
      "  Using cached nbconvert-7.2.1-py3-none-any.whl.metadata (9.1 kB)\n",
      "  Using cached nbconvert-7.1.0-py3-none-any.whl.metadata (9.0 kB)\n",
      "  Using cached nbconvert-7.0.0-py3-none-any.whl.metadata (9.2 kB)\n",
      "  Using cached nbconvert-6.5.4-py3-none-any.whl.metadata (6.0 kB)\n",
      "Requirement already satisfied: lxml in c:\\users\\dyavadi\\anaconda3\\lib\\site-packages (from nbconvert>=5->notebook>=4.4.1->widgetsnbextension~=3.5.0->ipywidgets<8.0,>=7.5->dataprep) (4.9.3)\n",
      "  Using cached nbconvert-6.5.3-py3-none-any.whl.metadata (6.0 kB)\n",
      "  Using cached nbconvert-6.5.2-py3-none-any.whl.metadata (6.0 kB)\n",
      "  Using cached nbconvert-6.5.1-py3-none-any.whl.metadata (6.0 kB)\n",
      "  Using cached nbconvert-6.5.0-py3-none-any.whl.metadata (6.0 kB)\n",
      "  Using cached nbconvert-6.4.5-py3-none-any.whl.metadata (5.9 kB)\n",
      "Collecting mistune<2,>=0.8.1 (from nbconvert>=5->notebook>=4.4.1->widgetsnbextension~=3.5.0->ipywidgets<8.0,>=7.5->dataprep)\n",
      "  Using cached mistune-0.8.4-py2.py3-none-any.whl.metadata (8.5 kB)\n",
      "Requirement already satisfied: jupyterlab-pygments in c:\\users\\dyavadi\\anaconda3\\lib\\site-packages (from nbconvert>=5->notebook>=4.4.1->widgetsnbextension~=3.5.0->ipywidgets<8.0,>=7.5->dataprep) (0.1.2)\n",
      "Requirement already satisfied: pandocfilters>=1.4.1 in c:\\users\\dyavadi\\anaconda3\\lib\\site-packages (from nbconvert>=5->notebook>=4.4.1->widgetsnbextension~=3.5.0->ipywidgets<8.0,>=7.5->dataprep) (1.5.0)\n",
      "Collecting testpath (from nbconvert>=5->notebook>=4.4.1->widgetsnbextension~=3.5.0->ipywidgets<8.0,>=7.5->dataprep)\n",
      "  Using cached testpath-0.6.0-py3-none-any.whl.metadata (1.1 kB)\n",
      "Collecting nbclient<0.6.0,>=0.5.0 (from nbconvert>=5->notebook>=4.4.1->widgetsnbextension~=3.5.0->ipywidgets<8.0,>=7.5->dataprep)\n",
      "  Using cached nbclient-0.5.13-py3-none-any.whl.metadata (5.0 kB)\n",
      "Requirement already satisfied: argon2-cffi-bindings in c:\\users\\dyavadi\\anaconda3\\lib\\site-packages (from argon2-cffi->jupyter-server<3,>=2.4.0->notebook>=4.4.1->widgetsnbextension~=3.5.0->ipywidgets<8.0,>=7.5->dataprep) (21.2.0)\n",
      "Requirement already satisfied: cffi>=1.0.1 in c:\\users\\dyavadi\\anaconda3\\lib\\site-packages (from argon2-cffi-bindings->argon2-cffi->jupyter-server<3,>=2.4.0->notebook>=4.4.1->widgetsnbextension~=3.5.0->ipywidgets<8.0,>=7.5->dataprep) (1.16.0)\n",
      "Requirement already satisfied: soupsieve>1.2 in c:\\users\\dyavadi\\anaconda3\\lib\\site-packages (from beautifulsoup4->nbconvert>=6.4.4->jupyter-server<3,>=2.4.0->notebook>=4.4.1->widgetsnbextension~=3.5.0->ipywidgets<8.0,>=7.5->dataprep) (2.5)\n",
      "Requirement already satisfied: webencodings in c:\\users\\dyavadi\\anaconda3\\lib\\site-packages (from bleach!=5.0.0->nbconvert>=6.4.4->jupyter-server<3,>=2.4.0->notebook>=4.4.1->widgetsnbextension~=3.5.0->ipywidgets<8.0,>=7.5->dataprep) (0.5.1)\n",
      "Requirement already satisfied: sniffio>=1.1 in c:\\users\\dyavadi\\anaconda3\\lib\\site-packages (from anyio>=3.1.0->jupyter-server<3,>=2.4.0->notebook>=4.4.1->widgetsnbextension~=3.5.0->ipywidgets<8.0,>=7.5->dataprep) (1.3.0)\n",
      "Requirement already satisfied: pycparser in c:\\users\\dyavadi\\anaconda3\\lib\\site-packages (from cffi>=1.0.1->argon2-cffi-bindings->argon2-cffi->jupyter-server<3,>=2.4.0->notebook>=4.4.1->widgetsnbextension~=3.5.0->ipywidgets<8.0,>=7.5->dataprep) (2.21)\n",
      "Requirement already satisfied: python-json-logger>=2.0.4 in c:\\users\\dyavadi\\anaconda3\\lib\\site-packages (from jupyter-events>=0.6.0->jupyter-server<3,>=2.4.0->notebook>=4.4.1->widgetsnbextension~=3.5.0->ipywidgets<8.0,>=7.5->dataprep) (2.0.7)\n",
      "Requirement already satisfied: rfc3339-validator in c:\\users\\dyavadi\\anaconda3\\lib\\site-packages (from jupyter-events>=0.6.0->jupyter-server<3,>=2.4.0->notebook>=4.4.1->widgetsnbextension~=3.5.0->ipywidgets<8.0,>=7.5->dataprep) (0.1.4)\n",
      "Requirement already satisfied: rfc3986-validator>=0.1.1 in c:\\users\\dyavadi\\anaconda3\\lib\\site-packages (from jupyter-events>=0.6.0->jupyter-server<3,>=2.4.0->notebook>=4.4.1->widgetsnbextension~=3.5.0->ipywidgets<8.0,>=7.5->dataprep) (0.1.1)\n",
      "Requirement already satisfied: fqdn in c:\\users\\dyavadi\\anaconda3\\lib\\site-packages (from jsonschema[format-nongpl]>=4.18.0->jupyter-events>=0.6.0->jupyter-server<3,>=2.4.0->notebook>=4.4.1->widgetsnbextension~=3.5.0->ipywidgets<8.0,>=7.5->dataprep) (1.5.1)\n",
      "Requirement already satisfied: isoduration in c:\\users\\dyavadi\\anaconda3\\lib\\site-packages (from jsonschema[format-nongpl]>=4.18.0->jupyter-events>=0.6.0->jupyter-server<3,>=2.4.0->notebook>=4.4.1->widgetsnbextension~=3.5.0->ipywidgets<8.0,>=7.5->dataprep) (20.11.0)\n",
      "Requirement already satisfied: jsonpointer>1.13 in c:\\users\\dyavadi\\anaconda3\\lib\\site-packages (from jsonschema[format-nongpl]>=4.18.0->jupyter-events>=0.6.0->jupyter-server<3,>=2.4.0->notebook>=4.4.1->widgetsnbextension~=3.5.0->ipywidgets<8.0,>=7.5->dataprep) (2.1)\n",
      "Requirement already satisfied: uri-template in c:\\users\\dyavadi\\anaconda3\\lib\\site-packages (from jsonschema[format-nongpl]>=4.18.0->jupyter-events>=0.6.0->jupyter-server<3,>=2.4.0->notebook>=4.4.1->widgetsnbextension~=3.5.0->ipywidgets<8.0,>=7.5->dataprep) (1.3.0)\n",
      "Requirement already satisfied: webcolors>=1.11 in c:\\users\\dyavadi\\anaconda3\\lib\\site-packages (from jsonschema[format-nongpl]>=4.18.0->jupyter-events>=0.6.0->jupyter-server<3,>=2.4.0->notebook>=4.4.1->widgetsnbextension~=3.5.0->ipywidgets<8.0,>=7.5->dataprep) (1.13)\n",
      "Requirement already satisfied: arrow>=0.15.0 in c:\\users\\dyavadi\\anaconda3\\lib\\site-packages (from isoduration->jsonschema[format-nongpl]>=4.18.0->jupyter-events>=0.6.0->jupyter-server<3,>=2.4.0->notebook>=4.4.1->widgetsnbextension~=3.5.0->ipywidgets<8.0,>=7.5->dataprep) (1.2.3)\n",
      "Using cached dataprep-0.4.1-py3-none-any.whl (3.5 MB)\n",
      "Using cached bokeh-2.4.3-py3-none-any.whl (18.5 MB)\n",
      "Using cached dask-2.30.0-py3-none-any.whl (848 kB)\n",
      "Using cached Flask-1.1.4-py2.py3-none-any.whl (94 kB)\n",
      "Using cached Flask_Cors-3.0.10-py2.py3-none-any.whl (14 kB)\n",
      "Using cached Jinja2-2.11.3-py2.py3-none-any.whl (125 kB)\n",
      "Using cached jsonpath_ng-1.6.1-py3-none-any.whl (29 kB)\n",
      "Using cached nltk-3.6.3-py3-none-any.whl (1.5 MB)\n",
      "Using cached pandas-1.5.3-cp311-cp311-win_amd64.whl (10.3 MB)\n",
      "Using cached pydantic-1.10.15-cp311-cp311-win_amd64.whl (2.1 MB)\n",
      "Using cached python_stdnum-1.20-py2.py3-none-any.whl (1.1 MB)\n",
      "Using cached usaddress-0.5.10-py2.py3-none-any.whl (63 kB)\n",
      "Using cached varname-0.8.3-py3-none-any.whl (21 kB)\n",
      "Using cached click-7.1.2-py2.py3-none-any.whl (82 kB)\n",
      "Using cached itsdangerous-1.1.0-py2.py3-none-any.whl (16 kB)\n",
      "Using cached python_crfsuite-0.9.10-cp311-cp311-win_amd64.whl (155 kB)\n",
      "Using cached Werkzeug-1.0.1-py2.py3-none-any.whl (298 kB)\n",
      "Using cached probableparsing-0.0.1-py2.py3-none-any.whl (3.1 kB)\n",
      "Using cached notebook-6.5.7-py3-none-any.whl (529 kB)\n",
      "Using cached jupyter_client-7.4.9-py3-none-any.whl (133 kB)\n",
      "Using cached nbclassic-1.0.0-py3-none-any.whl (10.0 MB)\n",
      "Using cached nbconvert-6.4.5-py3-none-any.whl (561 kB)\n",
      "Using cached mistune-0.8.4-py2.py3-none-any.whl (16 kB)\n",
      "Using cached nbclient-0.5.13-py3-none-any.whl (70 kB)\n",
      "Using cached testpath-0.6.0-py3-none-any.whl (83 kB)\n",
      "Building wheels for collected packages: levenshtein, regex\n",
      "  Building wheel for levenshtein (setup.py): started\n",
      "  Building wheel for levenshtein (setup.py): finished with status 'error'\n",
      "  Running setup.py clean for levenshtein\n",
      "  Building wheel for regex (setup.py): started\n",
      "  Building wheel for regex (setup.py): finished with status 'error'\n",
      "  Running setup.py clean for regex\n",
      "Failed to build levenshtein regex\n"
     ]
    },
    {
     "name": "stderr",
     "output_type": "stream",
     "text": [
      "DEPRECATION: Loading egg at c:\\users\\dyavadi\\anaconda3\\lib\\site-packages\\appdirs-1.4.4-py3.11.egg is deprecated. pip 24.3 will enforce this behaviour change. A possible replacement is to use pip for package installation.. Discussion can be found at https://github.com/pypa/pip/issues/12330\n",
      "DEPRECATION: Loading egg at c:\\users\\dyavadi\\anaconda3\\lib\\site-packages\\fonttools-4.51.0-py3.11-win-amd64.egg is deprecated. pip 24.3 will enforce this behaviour change. A possible replacement is to use pip for package installation.. Discussion can be found at https://github.com/pypa/pip/issues/12330\n",
      "DEPRECATION: Loading egg at c:\\users\\dyavadi\\anaconda3\\lib\\site-packages\\housing_predictor-0.0.15-py3.11.egg is deprecated. pip 24.3 will enforce this behaviour change. A possible replacement is to use pip for package installation.. Discussion can be found at https://github.com/pypa/pip/issues/12330\n",
      "  error: subprocess-exited-with-error\n",
      "  \n",
      "  python setup.py bdist_wheel did not run successfully.\n",
      "  exit code: 1\n",
      "  \n",
      "  [28 lines of output]\n",
      "  running bdist_wheel\n",
      "  running build\n",
      "  running build_py\n",
      "  creating build\n",
      "  creating build\\lib.win-amd64-cpython-311\n",
      "  creating build\\lib.win-amd64-cpython-311\\Levenshtein\n",
      "  copying Levenshtein\\StringMatcher.py -> build\\lib.win-amd64-cpython-311\\Levenshtein\n",
      "  copying Levenshtein\\__init__.py -> build\\lib.win-amd64-cpython-311\\Levenshtein\n",
      "  running egg_info\n",
      "  writing levenshtein.egg-info\\PKG-INFO\n",
      "  writing dependency_links to levenshtein.egg-info\\dependency_links.txt\n",
      "  deleting levenshtein.egg-info\\entry_points.txt\n",
      "  writing namespace_packages to levenshtein.egg-info\\namespace_packages.txt\n",
      "  writing requirements to levenshtein.egg-info\\requires.txt\n",
      "  writing top-level names to levenshtein.egg-info\\top_level.txt\n",
      "  reading manifest file 'levenshtein.egg-info\\SOURCES.txt'\n",
      "  reading manifest template 'MANIFEST.in'\n",
      "  warning: no previously-included files matching '*pyc' found anywhere in distribution\n",
      "  warning: no previously-included files matching '*so' found anywhere in distribution\n",
      "  warning: no previously-included files matching '.project' found anywhere in distribution\n",
      "  warning: no previously-included files matching '.pydevproject' found anywhere in distribution\n",
      "  adding license file 'COPYING'\n",
      "  writing manifest file 'levenshtein.egg-info\\SOURCES.txt'\n",
      "  copying Levenshtein\\_levenshtein.c -> build\\lib.win-amd64-cpython-311\\Levenshtein\n",
      "  copying Levenshtein\\_levenshtein.h -> build\\lib.win-amd64-cpython-311\\Levenshtein\n",
      "  running build_ext\n",
      "  building 'Levenshtein._levenshtein' extension\n",
      "  error: Microsoft Visual C++ 14.0 or greater is required. Get it with \"Microsoft C++ Build Tools\": https://visualstudio.microsoft.com/visual-cpp-build-tools/\n",
      "  [end of output]\n",
      "  \n",
      "  note: This error originates from a subprocess, and is likely not a problem with pip.\n",
      "  ERROR: Failed building wheel for levenshtein\n",
      "  error: subprocess-exited-with-error\n",
      "  \n",
      "  python setup.py bdist_wheel did not run successfully.\n",
      "  exit code: 1\n",
      "  \n",
      "  [13 lines of output]\n",
      "  running bdist_wheel\n",
      "  running build\n",
      "  running build_py\n",
      "  creating build\n",
      "  creating build\\lib.win-amd64-cpython-311\n",
      "  creating build\\lib.win-amd64-cpython-311\\regex\n",
      "  copying regex_3\\__init__.py -> build\\lib.win-amd64-cpython-311\\regex\n",
      "  copying regex_3\\regex.py -> build\\lib.win-amd64-cpython-311\\regex\n",
      "  copying regex_3\\_regex_core.py -> build\\lib.win-amd64-cpython-311\\regex\n",
      "  copying regex_3\\test_regex.py -> build\\lib.win-amd64-cpython-311\\regex\n",
      "  running build_ext\n",
      "  building 'regex._regex' extension\n",
      "  error: Microsoft Visual C++ 14.0 or greater is required. Get it with \"Microsoft C++ Build Tools\": https://visualstudio.microsoft.com/visual-cpp-build-tools/\n",
      "  [end of output]\n",
      "  \n",
      "  note: This error originates from a subprocess, and is likely not a problem with pip.\n",
      "  ERROR: Failed building wheel for regex\n",
      "ERROR: Could not build wheels for levenshtein, regex, which is required to install pyproject.toml-based projects\n"
     ]
    }
   ],
   "source": [
    "!pip install dataprep"
   ]
  },
  {
   "cell_type": "code",
   "execution_count": 44,
   "id": "6b9d4ba2-76dd-4277-9a2b-c8433d370f51",
   "metadata": {},
   "outputs": [],
   "source": [
    "df=sns.load_dataset('tips')"
   ]
  },
  {
   "cell_type": "code",
   "execution_count": 45,
   "id": "84006283-f6c2-411c-8887-6dfbe8025d94",
   "metadata": {},
   "outputs": [
    {
     "ename": "ModuleNotFoundError",
     "evalue": "No module named 'dataprep'",
     "output_type": "error",
     "traceback": [
      "\u001b[1;31m---------------------------------------------------------------------------\u001b[0m",
      "\u001b[1;31mModuleNotFoundError\u001b[0m                       Traceback (most recent call last)",
      "Cell \u001b[1;32mIn[45], line 1\u001b[0m\n\u001b[1;32m----> 1\u001b[0m \u001b[38;5;28;01mfrom\u001b[39;00m \u001b[38;5;21;01mdataprep\u001b[39;00m\u001b[38;5;21;01m.\u001b[39;00m\u001b[38;5;21;01meda\u001b[39;00m \u001b[38;5;28;01mimport\u001b[39;00m create_report\n\u001b[0;32m      2\u001b[0m create_report(df)\n",
      "\u001b[1;31mModuleNotFoundError\u001b[0m: No module named 'dataprep'"
     ]
    }
   ],
   "source": [
    "from dataprep.eda import create_report\n",
    "create_report(df)"
   ]
  },
  {
   "cell_type": "code",
   "execution_count": null,
   "id": "cef89fd9-bb75-461b-ab97-169358ee15b7",
   "metadata": {},
   "outputs": [],
   "source": []
  }
 ],
 "metadata": {
  "kernelspec": {
   "display_name": "Python 3 (ipykernel)",
   "language": "python",
   "name": "python3"
  },
  "language_info": {
   "codemirror_mode": {
    "name": "ipython",
    "version": 3
   },
   "file_extension": ".py",
   "mimetype": "text/x-python",
   "name": "python",
   "nbconvert_exporter": "python",
   "pygments_lexer": "ipython3",
   "version": "3.11.7"
  }
 },
 "nbformat": 4,
 "nbformat_minor": 5
}
